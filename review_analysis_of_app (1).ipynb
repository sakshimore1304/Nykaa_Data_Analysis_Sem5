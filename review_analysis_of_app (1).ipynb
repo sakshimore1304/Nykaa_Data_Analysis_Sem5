{
 "cells": [
  {
   "cell_type": "markdown",
   "id": "7339f1bb",
   "metadata": {},
   "source": [
    "# SENTIMENT ANALYSIS ON REVIEW OF NYKAA APP"
   ]
  },
  {
   "cell_type": "markdown",
   "id": "9c289dbd",
   "metadata": {},
   "source": [
    "##### "
   ]
  },
  {
   "cell_type": "markdown",
   "id": "b7bb24ca",
   "metadata": {},
   "source": [
    "##### Loading the 2 important libraries we need for sentiment analysis in jupytr notebook"
   ]
  },
  {
   "cell_type": "markdown",
   "id": "d77f1e96",
   "metadata": {},
   "source": [
    "##### "
   ]
  },
  {
   "cell_type": "code",
   "execution_count": null,
   "id": "ef78ea31",
   "metadata": {},
   "outputs": [],
   "source": [
    "!pip install wordcloud"
   ]
  },
  {
   "cell_type": "code",
   "execution_count": null,
   "id": "922c65fb",
   "metadata": {},
   "outputs": [],
   "source": [
    "!pip install textblob"
   ]
  },
  {
   "cell_type": "markdown",
   "id": "34e00aae",
   "metadata": {},
   "source": [
    "##### "
   ]
  },
  {
   "cell_type": "markdown",
   "id": "a7958e27",
   "metadata": {},
   "source": [
    "##### importing all the required libraries"
   ]
  },
  {
   "cell_type": "code",
   "execution_count": 1,
   "id": "42a143df",
   "metadata": {
    "scrolled": true
   },
   "outputs": [],
   "source": [
    "import pandas as pd\n",
    "import numpy as np\n",
    "import matplotlib.pyplot as plt\n",
    "import seaborn as sns\n",
    "from wordcloud import WordCloud\n",
    "from textblob import TextBlob\n",
    "from tkinter import *\n",
    "import tkinter as tk\n",
    "from ipywidgets import interact"
   ]
  },
  {
   "cell_type": "markdown",
   "id": "09c35342",
   "metadata": {},
   "source": [
    "##### "
   ]
  },
  {
   "cell_type": "markdown",
   "id": "77e101bc",
   "metadata": {},
   "source": [
    "##### "
   ]
  },
  {
   "cell_type": "markdown",
   "id": "97d90579",
   "metadata": {},
   "source": [
    "##### loading the dataset that contains the review of the people on the nykaa app"
   ]
  },
  {
   "cell_type": "code",
   "execution_count": 2,
   "id": "052d9469",
   "metadata": {},
   "outputs": [],
   "source": [
    "df=pd.read_csv(\"app_review.csv\")"
   ]
  },
  {
   "cell_type": "markdown",
   "id": "8a51d794",
   "metadata": {},
   "source": [
    "##### displaying the first 5 rows using the .head() method"
   ]
  },
  {
   "cell_type": "code",
   "execution_count": 3,
   "id": "b6d19dbd",
   "metadata": {},
   "outputs": [
    {
     "data": {
      "text/html": [
       "<div>\n",
       "<style scoped>\n",
       "    .dataframe tbody tr th:only-of-type {\n",
       "        vertical-align: middle;\n",
       "    }\n",
       "\n",
       "    .dataframe tbody tr th {\n",
       "        vertical-align: top;\n",
       "    }\n",
       "\n",
       "    .dataframe thead th {\n",
       "        text-align: right;\n",
       "    }\n",
       "</style>\n",
       "<table border=\"1\" class=\"dataframe\">\n",
       "  <thead>\n",
       "    <tr style=\"text-align: right;\">\n",
       "      <th></th>\n",
       "      <th>Unnamed: 0</th>\n",
       "      <th>content</th>\n",
       "    </tr>\n",
       "  </thead>\n",
       "  <tbody>\n",
       "    <tr>\n",
       "      <th>0</th>\n",
       "      <td>0</td>\n",
       "      <td>Nice shopping app</td>\n",
       "    </tr>\n",
       "    <tr>\n",
       "      <th>1</th>\n",
       "      <td>1</td>\n",
       "      <td>Nykaa you yuyz are not giving my reward points...</td>\n",
       "    </tr>\n",
       "    <tr>\n",
       "      <th>2</th>\n",
       "      <td>2</td>\n",
       "      <td>Love it</td>\n",
       "    </tr>\n",
       "    <tr>\n",
       "      <th>3</th>\n",
       "      <td>3</td>\n",
       "      <td>Is cod available?</td>\n",
       "    </tr>\n",
       "    <tr>\n",
       "      <th>4</th>\n",
       "      <td>4</td>\n",
       "      <td>Its awesome</td>\n",
       "    </tr>\n",
       "  </tbody>\n",
       "</table>\n",
       "</div>"
      ],
      "text/plain": [
       "   Unnamed: 0                                            content\n",
       "0           0                                  Nice shopping app\n",
       "1           1  Nykaa you yuyz are not giving my reward points...\n",
       "2           2                                            Love it\n",
       "3           3                                  Is cod available?\n",
       "4           4                                        Its awesome"
      ]
     },
     "execution_count": 3,
     "metadata": {},
     "output_type": "execute_result"
    }
   ],
   "source": [
    "df.head()"
   ]
  },
  {
   "cell_type": "markdown",
   "id": "2cdd8043",
   "metadata": {},
   "source": [
    "##### "
   ]
  },
  {
   "cell_type": "markdown",
   "id": "72386a88",
   "metadata": {},
   "source": [
    "##### "
   ]
  },
  {
   "cell_type": "markdown",
   "id": "9e4e7ff7",
   "metadata": {},
   "source": [
    "### PERFORMING THE DATA CLEANING AND DATA PROCESSING ON THE DATASET"
   ]
  },
  {
   "cell_type": "markdown",
   "id": "8ed9d865",
   "metadata": {},
   "source": [
    "##### "
   ]
  },
  {
   "cell_type": "markdown",
   "id": "0252026a",
   "metadata": {},
   "source": [
    "##### as we see above we have got a column called as unnamed. lets drop it"
   ]
  },
  {
   "cell_type": "code",
   "execution_count": 4,
   "id": "29bf3d2b",
   "metadata": {},
   "outputs": [],
   "source": [
    "df.drop(columns=\"Unnamed: 0\",inplace=True)"
   ]
  },
  {
   "cell_type": "markdown",
   "id": "ba1e7925",
   "metadata": {},
   "source": [
    "##### "
   ]
  },
  {
   "cell_type": "markdown",
   "id": "c34887eb",
   "metadata": {},
   "source": [
    "##### now check the dataset using the head method"
   ]
  },
  {
   "cell_type": "code",
   "execution_count": 5,
   "id": "bf0932fe",
   "metadata": {},
   "outputs": [
    {
     "data": {
      "text/html": [
       "<div>\n",
       "<style scoped>\n",
       "    .dataframe tbody tr th:only-of-type {\n",
       "        vertical-align: middle;\n",
       "    }\n",
       "\n",
       "    .dataframe tbody tr th {\n",
       "        vertical-align: top;\n",
       "    }\n",
       "\n",
       "    .dataframe thead th {\n",
       "        text-align: right;\n",
       "    }\n",
       "</style>\n",
       "<table border=\"1\" class=\"dataframe\">\n",
       "  <thead>\n",
       "    <tr style=\"text-align: right;\">\n",
       "      <th></th>\n",
       "      <th>content</th>\n",
       "    </tr>\n",
       "  </thead>\n",
       "  <tbody>\n",
       "    <tr>\n",
       "      <th>0</th>\n",
       "      <td>Nice shopping app</td>\n",
       "    </tr>\n",
       "    <tr>\n",
       "      <th>1</th>\n",
       "      <td>Nykaa you yuyz are not giving my reward points...</td>\n",
       "    </tr>\n",
       "    <tr>\n",
       "      <th>2</th>\n",
       "      <td>Love it</td>\n",
       "    </tr>\n",
       "    <tr>\n",
       "      <th>3</th>\n",
       "      <td>Is cod available?</td>\n",
       "    </tr>\n",
       "    <tr>\n",
       "      <th>4</th>\n",
       "      <td>Its awesome</td>\n",
       "    </tr>\n",
       "  </tbody>\n",
       "</table>\n",
       "</div>"
      ],
      "text/plain": [
       "                                             content\n",
       "0                                  Nice shopping app\n",
       "1  Nykaa you yuyz are not giving my reward points...\n",
       "2                                            Love it\n",
       "3                                  Is cod available?\n",
       "4                                        Its awesome"
      ]
     },
     "execution_count": 5,
     "metadata": {},
     "output_type": "execute_result"
    }
   ],
   "source": [
    "df.head()"
   ]
  },
  {
   "cell_type": "markdown",
   "id": "ccb43003",
   "metadata": {},
   "source": [
    "##### "
   ]
  },
  {
   "cell_type": "markdown",
   "id": "efb59a02",
   "metadata": {},
   "source": [
    "##### displaying the shape of the dataset i.e the dimension"
   ]
  },
  {
   "cell_type": "code",
   "execution_count": 6,
   "id": "4ccad888",
   "metadata": {},
   "outputs": [
    {
     "data": {
      "text/plain": [
       "(155544, 1)"
      ]
     },
     "execution_count": 6,
     "metadata": {},
     "output_type": "execute_result"
    }
   ],
   "source": [
    "df.shape"
   ]
  },
  {
   "cell_type": "markdown",
   "id": "e44859ad",
   "metadata": {},
   "source": [
    "##### "
   ]
  },
  {
   "cell_type": "markdown",
   "id": "8966054f",
   "metadata": {},
   "source": [
    "##### displaying the columns name that are present in the dataset"
   ]
  },
  {
   "cell_type": "code",
   "execution_count": 7,
   "id": "3bec09f8",
   "metadata": {},
   "outputs": [
    {
     "data": {
      "text/plain": [
       "Index(['content'], dtype='object')"
      ]
     },
     "execution_count": 7,
     "metadata": {},
     "output_type": "execute_result"
    }
   ],
   "source": [
    "df.columns"
   ]
  },
  {
   "cell_type": "markdown",
   "id": "32ef8481",
   "metadata": {},
   "source": [
    "##### "
   ]
  },
  {
   "cell_type": "markdown",
   "id": "f7d67e58",
   "metadata": {},
   "source": [
    "##### displaying the data types of the columns of the dataset "
   ]
  },
  {
   "cell_type": "code",
   "execution_count": 8,
   "id": "fc973261",
   "metadata": {},
   "outputs": [
    {
     "data": {
      "text/plain": [
       "content    object\n",
       "dtype: object"
      ]
     },
     "execution_count": 8,
     "metadata": {},
     "output_type": "execute_result"
    }
   ],
   "source": [
    "df.dtypes"
   ]
  },
  {
   "cell_type": "markdown",
   "id": "8d99e556",
   "metadata": {},
   "source": [
    "##### "
   ]
  },
  {
   "cell_type": "markdown",
   "id": "e237cb31",
   "metadata": {},
   "source": [
    "##### displaying the information of the dataset like the dtype of the columns, the number of non-null values and the memory usage by the dataset"
   ]
  },
  {
   "cell_type": "code",
   "execution_count": 9,
   "id": "b9a7c5b4",
   "metadata": {},
   "outputs": [
    {
     "name": "stdout",
     "output_type": "stream",
     "text": [
      "<class 'pandas.core.frame.DataFrame'>\n",
      "RangeIndex: 155544 entries, 0 to 155543\n",
      "Data columns (total 1 columns):\n",
      " #   Column   Non-Null Count   Dtype \n",
      "---  ------   --------------   ----- \n",
      " 0   content  155540 non-null  object\n",
      "dtypes: object(1)\n",
      "memory usage: 1.2+ MB\n"
     ]
    }
   ],
   "source": [
    "df.info()"
   ]
  },
  {
   "cell_type": "markdown",
   "id": "97fa2f94",
   "metadata": {},
   "source": [
    "##### "
   ]
  },
  {
   "cell_type": "markdown",
   "id": "bd1615e0",
   "metadata": {},
   "source": [
    "##### performing sentiment analysis using the textblob library"
   ]
  },
  {
   "cell_type": "code",
   "execution_count": 10,
   "id": "78108586",
   "metadata": {},
   "outputs": [],
   "source": [
    "#first we create a function that will assign the polarity score to the text\n",
    "def analyze(text):\n",
    "#initialize a function that takes input parameter as the text\n",
    "    \n",
    "    if isinstance(text, str):  # Check if the text is a string or not\n",
    "        blob=TextBlob(text) #creates a new textblob object to perform analysis\n",
    "    #perform snetiment analysis using polarity property\n",
    "        polarity=blob.sentiment.polarity\n",
    "    #categorizing it into positive,negative and neutral groups\n",
    "        if polarity>0:\n",
    "            return \"Positive\"\n",
    "        elif polarity<0:\n",
    "            return \"Negative\"\n",
    "        else:\n",
    "            return \"Neutral\"\n",
    "    "
   ]
  },
  {
   "cell_type": "markdown",
   "id": "26ff6ca3",
   "metadata": {},
   "source": [
    "##### "
   ]
  },
  {
   "cell_type": "markdown",
   "id": "515a06ca",
   "metadata": {},
   "source": [
    "##### applying the above created analyze function on the content column and storing the result in the new column named as Category"
   ]
  },
  {
   "cell_type": "code",
   "execution_count": 11,
   "id": "a10e9639",
   "metadata": {},
   "outputs": [],
   "source": [
    "df['Category']=df['content'].apply(analyze)\n"
   ]
  },
  {
   "cell_type": "markdown",
   "id": "82493dab",
   "metadata": {},
   "source": [
    "##### "
   ]
  },
  {
   "cell_type": "markdown",
   "id": "1a8fbbc9",
   "metadata": {},
   "source": [
    "##### getting counts of the positive, negative and neutral reviews"
   ]
  },
  {
   "cell_type": "code",
   "execution_count": 12,
   "id": "825d0807",
   "metadata": {},
   "outputs": [
    {
     "data": {
      "text/plain": [
       "Positive    125670\n",
       "Neutral      19519\n",
       "Negative     10351\n",
       "Name: Category, dtype: int64"
      ]
     },
     "execution_count": 12,
     "metadata": {},
     "output_type": "execute_result"
    }
   ],
   "source": [
    "df['Category'].value_counts()"
   ]
  },
  {
   "cell_type": "markdown",
   "id": "0e701e77",
   "metadata": {},
   "source": [
    "##### "
   ]
  },
  {
   "cell_type": "markdown",
   "id": "3f2fae9f",
   "metadata": {},
   "source": [
    "##### creating a countplot for the different categories of the review using the seaborn library"
   ]
  },
  {
   "cell_type": "code",
   "execution_count": 13,
   "id": "47d8cdf6",
   "metadata": {},
   "outputs": [
    {
     "data": {
      "text/plain": [
       "Text(0, 0.5, 'Count of Review')"
      ]
     },
     "execution_count": 13,
     "metadata": {},
     "output_type": "execute_result"
    },
    {
     "data": {
      "image/png": "[encoded data removed]",
      "text/plain": [
       "<Figure size 600x600 with 1 Axes>"
      ]
     },
     "metadata": {},
     "output_type": "display_data"
    }
   ],
   "source": [
    "plt.figure(figsize=(6,6))\n",
    "sns.countplot(x=\"Category\",data=df,palette=\"viridis\")\n",
    "plt.title(\"Count of Review as per category\")\n",
    "plt.xlabel(\"Category of Review\")\n",
    "plt.ylabel(\"Count of Review\")"
   ]
  },
  {
   "cell_type": "markdown",
   "id": "5e030bab",
   "metadata": {},
   "source": [
    "##### "
   ]
  },
  {
   "cell_type": "markdown",
   "id": "92d3aedd",
   "metadata": {},
   "source": [
    "##### now to create a word cloud we need to clean the dataset by removing all the null values from it"
   ]
  },
  {
   "cell_type": "markdown",
   "id": "64cbc72c",
   "metadata": {},
   "source": [
    "##### "
   ]
  },
  {
   "cell_type": "markdown",
   "id": "8a2c42c8",
   "metadata": {},
   "source": [
    "##### so we create a new dataset by dropping the nan values"
   ]
  },
  {
   "cell_type": "code",
   "execution_count": 14,
   "id": "17eba646",
   "metadata": {},
   "outputs": [],
   "source": [
    "data_cleaned = df.dropna(subset=['content'])"
   ]
  },
  {
   "cell_type": "markdown",
   "id": "451f7e98",
   "metadata": {},
   "source": [
    "##### "
   ]
  },
  {
   "cell_type": "markdown",
   "id": "9e6c2e43",
   "metadata": {},
   "source": [
    "##### displaying head of this new dataset created"
   ]
  },
  {
   "cell_type": "code",
   "execution_count": 15,
   "id": "eb4d61b6",
   "metadata": {},
   "outputs": [
    {
     "data": {
      "text/html": [
       "<div>\n",
       "<style scoped>\n",
       "    .dataframe tbody tr th:only-of-type {\n",
       "        vertical-align: middle;\n",
       "    }\n",
       "\n",
       "    .dataframe tbody tr th {\n",
       "        vertical-align: top;\n",
       "    }\n",
       "\n",
       "    .dataframe thead th {\n",
       "        text-align: right;\n",
       "    }\n",
       "</style>\n",
       "<table border=\"1\" class=\"dataframe\">\n",
       "  <thead>\n",
       "    <tr style=\"text-align: right;\">\n",
       "      <th></th>\n",
       "      <th>content</th>\n",
       "      <th>Category</th>\n",
       "    </tr>\n",
       "  </thead>\n",
       "  <tbody>\n",
       "    <tr>\n",
       "      <th>0</th>\n",
       "      <td>Nice shopping app</td>\n",
       "      <td>Positive</td>\n",
       "    </tr>\n",
       "    <tr>\n",
       "      <th>1</th>\n",
       "      <td>Nykaa you yuyz are not giving my reward points...</td>\n",
       "      <td>Positive</td>\n",
       "    </tr>\n",
       "    <tr>\n",
       "      <th>2</th>\n",
       "      <td>Love it</td>\n",
       "      <td>Positive</td>\n",
       "    </tr>\n",
       "    <tr>\n",
       "      <th>3</th>\n",
       "      <td>Is cod available?</td>\n",
       "      <td>Positive</td>\n",
       "    </tr>\n",
       "    <tr>\n",
       "      <th>4</th>\n",
       "      <td>Its awesome</td>\n",
       "      <td>Positive</td>\n",
       "    </tr>\n",
       "  </tbody>\n",
       "</table>\n",
       "</div>"
      ],
      "text/plain": [
       "                                             content  Category\n",
       "0                                  Nice shopping app  Positive\n",
       "1  Nykaa you yuyz are not giving my reward points...  Positive\n",
       "2                                            Love it  Positive\n",
       "3                                  Is cod available?  Positive\n",
       "4                                        Its awesome  Positive"
      ]
     },
     "execution_count": 15,
     "metadata": {},
     "output_type": "execute_result"
    }
   ],
   "source": [
    "data_cleaned.head()"
   ]
  },
  {
   "cell_type": "markdown",
   "id": "13dddd67",
   "metadata": {},
   "source": [
    "##### "
   ]
  },
  {
   "cell_type": "markdown",
   "id": "50e5300d",
   "metadata": {},
   "source": [
    "##### creating a wordcloud"
   ]
  },
  {
   "cell_type": "code",
   "execution_count": 16,
   "id": "3470c31d",
   "metadata": {},
   "outputs": [
    {
     "data": {
      "image/png": "[encoded data removed]",
      "text/plain": [
       "<Figure size 800x800 with 1 Axes>"
      ]
     },
     "metadata": {},
     "output_type": "display_data"
    }
   ],
   "source": [
    "#creating a new variable that will craete a single string of all the reviews in the column\n",
    "reviews = ' '.join(data_cleaned['content'])\n",
    "\n",
    "# Create a WordCloud object\n",
    "wordcloud = WordCloud(width=800, height=400, background_color='black').generate(reviews)\n",
    "\n",
    "# Plot the word cloud using matplotlib\n",
    "plt.figure(figsize=(8, 8))\n",
    "plt.imshow(wordcloud)\n",
    "plt.axis('off')\n",
    "plt.title('Word Cloud for Reviews of App')\n",
    "plt.show()"
   ]
  },
  {
   "cell_type": "markdown",
   "id": "ed7e3117",
   "metadata": {},
   "source": [
    "##### "
   ]
  },
  {
   "cell_type": "markdown",
   "id": "be399a22",
   "metadata": {},
   "source": [
    "##### "
   ]
  },
  {
   "cell_type": "markdown",
   "id": "791adc12",
   "metadata": {},
   "source": [
    "##### "
   ]
  },
  {
   "cell_type": "markdown",
   "id": "8bb0f056",
   "metadata": {},
   "source": [
    "# PRODUCT REVIEW ANALYSIS"
   ]
  },
  {
   "cell_type": "markdown",
   "id": "03f793e4",
   "metadata": {},
   "source": [
    "##### "
   ]
  },
  {
   "cell_type": "markdown",
   "id": "bff31671",
   "metadata": {},
   "source": [
    "##### loading the dataset"
   ]
  },
  {
   "cell_type": "code",
   "execution_count": 17,
   "id": "34688fad",
   "metadata": {},
   "outputs": [],
   "source": [
    "product_data=pd.read_csv('Nykaa_Products_2023.csv')"
   ]
  },
  {
   "cell_type": "markdown",
   "id": "29940f50",
   "metadata": {},
   "source": [
    "##### "
   ]
  },
  {
   "cell_type": "markdown",
   "id": "cd8efacd",
   "metadata": {},
   "source": [
    "##### displaying the first 5 rows using the .head() method"
   ]
  },
  {
   "cell_type": "code",
   "execution_count": 18,
   "id": "238d298e",
   "metadata": {
    "scrolled": true
   },
   "outputs": [
    {
     "data": {
      "text/html": [
       "<div>\n",
       "<style scoped>\n",
       "    .dataframe tbody tr th:only-of-type {\n",
       "        vertical-align: middle;\n",
       "    }\n",
       "\n",
       "    .dataframe tbody tr th {\n",
       "        vertical-align: top;\n",
       "    }\n",
       "\n",
       "    .dataframe thead th {\n",
       "        text-align: right;\n",
       "    }\n",
       "</style>\n",
       "<table border=\"1\" class=\"dataframe\">\n",
       "  <thead>\n",
       "    <tr style=\"text-align: right;\">\n",
       "      <th></th>\n",
       "      <th>Unnamed: 0</th>\n",
       "      <th>Product Name</th>\n",
       "      <th>Reviews</th>\n",
       "      <th>Original Price</th>\n",
       "      <th>Offer Price</th>\n",
       "      <th>Discount</th>\n",
       "      <th>Free Gifts</th>\n",
       "    </tr>\n",
       "  </thead>\n",
       "  <tbody>\n",
       "    <tr>\n",
       "      <th>0</th>\n",
       "      <td>0</td>\n",
       "      <td>L'Oreal Paris Glycolic Bright Serum With Glyco...</td>\n",
       "      <td>( 5109 )</td>\n",
       "      <td>MRP:₹749</td>\n",
       "      <td>₹599</td>\n",
       "      <td>20% Off</td>\n",
       "      <td>NaN</td>\n",
       "    </tr>\n",
       "    <tr>\n",
       "      <th>1</th>\n",
       "      <td>1</td>\n",
       "      <td>Nykaa Skin Secrets Gold Sheet Mask + Nykaa Ski...</td>\n",
       "      <td>( 25 )</td>\n",
       "      <td>MRP:₹1099</td>\n",
       "      <td>₹879</td>\n",
       "      <td>20% Off</td>\n",
       "      <td>Extra 10% Off</td>\n",
       "    </tr>\n",
       "    <tr>\n",
       "      <th>2</th>\n",
       "      <td>2</td>\n",
       "      <td>Dot &amp; Key Vitamin C + E Face Sunscreen With SP...</td>\n",
       "      <td>( 3606 )</td>\n",
       "      <td>MRP:₹495</td>\n",
       "      <td>₹421</td>\n",
       "      <td>15% Off</td>\n",
       "      <td>Extra 5% Off</td>\n",
       "    </tr>\n",
       "    <tr>\n",
       "      <th>3</th>\n",
       "      <td>3</td>\n",
       "      <td>Olay Total Effects 7 In One Anti-Ageing Day Cr...</td>\n",
       "      <td>( 6046 )</td>\n",
       "      <td>MRP:₹798</td>\n",
       "      <td>₹638</td>\n",
       "      <td>20% Off</td>\n",
       "      <td>NaN</td>\n",
       "    </tr>\n",
       "    <tr>\n",
       "      <th>4</th>\n",
       "      <td>4</td>\n",
       "      <td>Nykaa SKINRX 10% Vitamin C with 5% Niacinamide...</td>\n",
       "      <td>( 1421 )</td>\n",
       "      <td>MRP:₹699</td>\n",
       "      <td>₹559</td>\n",
       "      <td>20% Off</td>\n",
       "      <td>NaN</td>\n",
       "    </tr>\n",
       "  </tbody>\n",
       "</table>\n",
       "</div>"
      ],
      "text/plain": [
       "   Unnamed: 0                                       Product Name   Reviews  \\\n",
       "0           0  L'Oreal Paris Glycolic Bright Serum With Glyco...  ( 5109 )   \n",
       "1           1  Nykaa Skin Secrets Gold Sheet Mask + Nykaa Ski...    ( 25 )   \n",
       "2           2  Dot & Key Vitamin C + E Face Sunscreen With SP...  ( 3606 )   \n",
       "3           3  Olay Total Effects 7 In One Anti-Ageing Day Cr...  ( 6046 )   \n",
       "4           4  Nykaa SKINRX 10% Vitamin C with 5% Niacinamide...  ( 1421 )   \n",
       "\n",
       "  Original Price Offer Price Discount     Free Gifts  \n",
       "0       MRP:₹749        ₹599  20% Off            NaN  \n",
       "1      MRP:₹1099        ₹879  20% Off  Extra 10% Off  \n",
       "2       MRP:₹495        ₹421  15% Off   Extra 5% Off  \n",
       "3       MRP:₹798        ₹638  20% Off            NaN  \n",
       "4       MRP:₹699        ₹559  20% Off            NaN  "
      ]
     },
     "execution_count": 18,
     "metadata": {},
     "output_type": "execute_result"
    }
   ],
   "source": [
    "product_data.head()"
   ]
  },
  {
   "cell_type": "markdown",
   "id": "6420bc76",
   "metadata": {},
   "source": [
    "##### "
   ]
  },
  {
   "cell_type": "markdown",
   "id": "686dc5ef",
   "metadata": {},
   "source": [
    "##### as we have noticed that there is an extra unwanted column so we drop it "
   ]
  },
  {
   "cell_type": "code",
   "execution_count": 19,
   "id": "81757511",
   "metadata": {},
   "outputs": [],
   "source": [
    "product_data = product_data.drop(columns=['Unnamed: 0'])"
   ]
  },
  {
   "cell_type": "markdown",
   "id": "71d84365",
   "metadata": {},
   "source": [
    "##### "
   ]
  },
  {
   "cell_type": "markdown",
   "id": "6216aeb6",
   "metadata": {},
   "source": [
    "##### to see the names of the columns present in the dataset, we use the .columns method"
   ]
  },
  {
   "cell_type": "code",
   "execution_count": 20,
   "id": "2ce283d6",
   "metadata": {},
   "outputs": [
    {
     "data": {
      "text/plain": [
       "Index(['Product Name', 'Reviews', 'Original Price', 'Offer Price', 'Discount',\n",
       "       'Free Gifts'],\n",
       "      dtype='object')"
      ]
     },
     "execution_count": 20,
     "metadata": {},
     "output_type": "execute_result"
    }
   ],
   "source": [
    "product_data.columns"
   ]
  },
  {
   "cell_type": "markdown",
   "id": "d0fee2de",
   "metadata": {},
   "source": [
    "##### "
   ]
  },
  {
   "cell_type": "markdown",
   "id": "89823075",
   "metadata": {},
   "source": [
    "##### as the column anmes have spaces in it , we rename the columns"
   ]
  },
  {
   "cell_type": "code",
   "execution_count": 21,
   "id": "08463bd2",
   "metadata": {},
   "outputs": [],
   "source": [
    "product_data = product_data.rename(columns={'Product Name': 'Product_Name','Original Price':'Original_Price','Offer Price':'Offer_Price','Free Gifts':'Free_Gifts'})"
   ]
  },
  {
   "cell_type": "markdown",
   "id": "47633e59",
   "metadata": {},
   "source": [
    "##### "
   ]
  },
  {
   "cell_type": "markdown",
   "id": "5bba885d",
   "metadata": {},
   "source": [
    "##### displaying the 1st row to see the changes"
   ]
  },
  {
   "cell_type": "code",
   "execution_count": 22,
   "id": "53142eda",
   "metadata": {},
   "outputs": [
    {
     "data": {
      "text/html": [
       "<div>\n",
       "<style scoped>\n",
       "    .dataframe tbody tr th:only-of-type {\n",
       "        vertical-align: middle;\n",
       "    }\n",
       "\n",
       "    .dataframe tbody tr th {\n",
       "        vertical-align: top;\n",
       "    }\n",
       "\n",
       "    .dataframe thead th {\n",
       "        text-align: right;\n",
       "    }\n",
       "</style>\n",
       "<table border=\"1\" class=\"dataframe\">\n",
       "  <thead>\n",
       "    <tr style=\"text-align: right;\">\n",
       "      <th></th>\n",
       "      <th>Product_Name</th>\n",
       "      <th>Reviews</th>\n",
       "      <th>Original_Price</th>\n",
       "      <th>Offer_Price</th>\n",
       "      <th>Discount</th>\n",
       "      <th>Free_Gifts</th>\n",
       "    </tr>\n",
       "  </thead>\n",
       "  <tbody>\n",
       "    <tr>\n",
       "      <th>0</th>\n",
       "      <td>L'Oreal Paris Glycolic Bright Serum With Glyco...</td>\n",
       "      <td>( 5109 )</td>\n",
       "      <td>MRP:₹749</td>\n",
       "      <td>₹599</td>\n",
       "      <td>20% Off</td>\n",
       "      <td>NaN</td>\n",
       "    </tr>\n",
       "  </tbody>\n",
       "</table>\n",
       "</div>"
      ],
      "text/plain": [
       "                                        Product_Name   Reviews Original_Price  \\\n",
       "0  L'Oreal Paris Glycolic Bright Serum With Glyco...  ( 5109 )       MRP:₹749   \n",
       "\n",
       "  Offer_Price Discount Free_Gifts  \n",
       "0        ₹599  20% Off        NaN  "
      ]
     },
     "execution_count": 22,
     "metadata": {},
     "output_type": "execute_result"
    }
   ],
   "source": [
    "product_data.head(1)"
   ]
  },
  {
   "cell_type": "markdown",
   "id": "0116d0cc",
   "metadata": {},
   "source": [
    "##### "
   ]
  },
  {
   "cell_type": "markdown",
   "id": "9f231137",
   "metadata": {},
   "source": [
    "##### finding the shape of the dataset"
   ]
  },
  {
   "cell_type": "code",
   "execution_count": 23,
   "id": "d2b7578b",
   "metadata": {
    "scrolled": true
   },
   "outputs": [
    {
     "data": {
      "text/plain": [
       "(12000, 6)"
      ]
     },
     "execution_count": 23,
     "metadata": {},
     "output_type": "execute_result"
    }
   ],
   "source": [
    "product_data.shape"
   ]
  },
  {
   "cell_type": "markdown",
   "id": "ff24d69f",
   "metadata": {},
   "source": [
    "##### "
   ]
  },
  {
   "cell_type": "markdown",
   "id": "41ecde04",
   "metadata": {},
   "source": [
    "##### finding the data types of the dataset using the dtypes method"
   ]
  },
  {
   "cell_type": "code",
   "execution_count": 24,
   "id": "03a53553",
   "metadata": {
    "scrolled": true
   },
   "outputs": [
    {
     "data": {
      "text/plain": [
       "Product_Name      object\n",
       "Reviews           object\n",
       "Original_Price    object\n",
       "Offer_Price       object\n",
       "Discount          object\n",
       "Free_Gifts        object\n",
       "dtype: object"
      ]
     },
     "execution_count": 24,
     "metadata": {},
     "output_type": "execute_result"
    }
   ],
   "source": [
    "product_data.dtypes"
   ]
  },
  {
   "cell_type": "markdown",
   "id": "33705882",
   "metadata": {},
   "source": [
    "##### "
   ]
  },
  {
   "cell_type": "markdown",
   "id": "1d15927b",
   "metadata": {},
   "source": [
    "##### as we notice that te offer price has a rupees sign in it we remove it and convert the datatype from string to float"
   ]
  },
  {
   "cell_type": "code",
   "execution_count": 25,
   "id": "3c4e75e6",
   "metadata": {
    "scrolled": true
   },
   "outputs": [
    {
     "name": "stderr",
     "output_type": "stream",
     "text": [
      "C:\\Users\\DELL\\AppData\\Local\\Temp\\ipykernel_20444\\2363080247.py:1: FutureWarning: The default value of regex will change from True to False in a future version.\n",
      "  product_data['Offer_Price'] = product_data['Offer_Price'].str.replace(r'\\₹', '').astype(float)\n"
     ]
    }
   ],
   "source": [
    "product_data['Offer_Price'] = product_data['Offer_Price'].str.replace(r'\\₹', '').astype(float)"
   ]
  },
  {
   "cell_type": "markdown",
   "id": "1b8b3644",
   "metadata": {},
   "source": [
    "##### also the reviews column have a bracket in it and it is in string type so we convert it to float type"
   ]
  },
  {
   "cell_type": "code",
   "execution_count": 26,
   "id": "05a5f834",
   "metadata": {},
   "outputs": [
    {
     "name": "stderr",
     "output_type": "stream",
     "text": [
      "C:\\Users\\DELL\\AppData\\Local\\Temp\\ipykernel_20444\\1488165426.py:1: FutureWarning: The default value of regex will change from True to False in a future version.\n",
      "  product_data['Reviews'] = product_data['Reviews'].str.replace(r'\\(|\\)', '').astype(float)\n"
     ]
    }
   ],
   "source": [
    "product_data['Reviews'] = product_data['Reviews'].str.replace(r'\\(|\\)', '').astype(float)"
   ]
  },
  {
   "cell_type": "markdown",
   "id": "e1045e28",
   "metadata": {},
   "source": [
    "##### "
   ]
  },
  {
   "cell_type": "markdown",
   "id": "1afcd9ef",
   "metadata": {},
   "source": [
    "##### "
   ]
  },
  {
   "cell_type": "markdown",
   "id": "48c58877",
   "metadata": {},
   "source": [
    "##### getting information about the dataset like non-null values , memory usage"
   ]
  },
  {
   "cell_type": "code",
   "execution_count": 27,
   "id": "3404b5dd",
   "metadata": {
    "scrolled": true
   },
   "outputs": [
    {
     "name": "stdout",
     "output_type": "stream",
     "text": [
      "<class 'pandas.core.frame.DataFrame'>\n",
      "RangeIndex: 12000 entries, 0 to 11999\n",
      "Data columns (total 6 columns):\n",
      " #   Column          Non-Null Count  Dtype  \n",
      "---  ------          --------------  -----  \n",
      " 0   Product_Name    12000 non-null  object \n",
      " 1   Reviews         11228 non-null  float64\n",
      " 2   Original_Price  12000 non-null  object \n",
      " 3   Offer_Price     12000 non-null  float64\n",
      " 4   Discount        8991 non-null   object \n",
      " 5   Free_Gifts      4073 non-null   object \n",
      "dtypes: float64(2), object(4)\n",
      "memory usage: 562.6+ KB\n"
     ]
    }
   ],
   "source": [
    "product_data.info()"
   ]
  },
  {
   "cell_type": "markdown",
   "id": "fe42d9e0",
   "metadata": {},
   "source": [
    "##### "
   ]
  },
  {
   "cell_type": "markdown",
   "id": "bd647aa9",
   "metadata": {},
   "source": [
    "##### getting the statistical description about the dataset"
   ]
  },
  {
   "cell_type": "code",
   "execution_count": 28,
   "id": "83b6cc4c",
   "metadata": {
    "scrolled": true
   },
   "outputs": [
    {
     "data": {
      "text/html": [
       "<div>\n",
       "<style scoped>\n",
       "    .dataframe tbody tr th:only-of-type {\n",
       "        vertical-align: middle;\n",
       "    }\n",
       "\n",
       "    .dataframe tbody tr th {\n",
       "        vertical-align: top;\n",
       "    }\n",
       "\n",
       "    .dataframe thead th {\n",
       "        text-align: right;\n",
       "    }\n",
       "</style>\n",
       "<table border=\"1\" class=\"dataframe\">\n",
       "  <thead>\n",
       "    <tr style=\"text-align: right;\">\n",
       "      <th></th>\n",
       "      <th>Reviews</th>\n",
       "      <th>Offer_Price</th>\n",
       "    </tr>\n",
       "  </thead>\n",
       "  <tbody>\n",
       "    <tr>\n",
       "      <th>count</th>\n",
       "      <td>11228.000000</td>\n",
       "      <td>12000.000000</td>\n",
       "    </tr>\n",
       "    <tr>\n",
       "      <th>mean</th>\n",
       "      <td>1693.342537</td>\n",
       "      <td>942.095917</td>\n",
       "    </tr>\n",
       "    <tr>\n",
       "      <th>std</th>\n",
       "      <td>8803.511169</td>\n",
       "      <td>1507.969864</td>\n",
       "    </tr>\n",
       "    <tr>\n",
       "      <th>min</th>\n",
       "      <td>1.000000</td>\n",
       "      <td>31.000000</td>\n",
       "    </tr>\n",
       "    <tr>\n",
       "      <th>25%</th>\n",
       "      <td>6.000000</td>\n",
       "      <td>272.000000</td>\n",
       "    </tr>\n",
       "    <tr>\n",
       "      <th>50%</th>\n",
       "      <td>52.000000</td>\n",
       "      <td>491.000000</td>\n",
       "    </tr>\n",
       "    <tr>\n",
       "      <th>75%</th>\n",
       "      <td>544.250000</td>\n",
       "      <td>1050.000000</td>\n",
       "    </tr>\n",
       "    <tr>\n",
       "      <th>max</th>\n",
       "      <td>188881.000000</td>\n",
       "      <td>33000.000000</td>\n",
       "    </tr>\n",
       "  </tbody>\n",
       "</table>\n",
       "</div>"
      ],
      "text/plain": [
       "             Reviews   Offer_Price\n",
       "count   11228.000000  12000.000000\n",
       "mean     1693.342537    942.095917\n",
       "std      8803.511169   1507.969864\n",
       "min         1.000000     31.000000\n",
       "25%         6.000000    272.000000\n",
       "50%        52.000000    491.000000\n",
       "75%       544.250000   1050.000000\n",
       "max    188881.000000  33000.000000"
      ]
     },
     "execution_count": 28,
     "metadata": {},
     "output_type": "execute_result"
    }
   ],
   "source": [
    "product_data.describe()"
   ]
  },
  {
   "cell_type": "code",
   "execution_count": 29,
   "id": "1e7eada1",
   "metadata": {},
   "outputs": [
    {
     "data": {
      "text/html": [
       "<div>\n",
       "<style scoped>\n",
       "    .dataframe tbody tr th:only-of-type {\n",
       "        vertical-align: middle;\n",
       "    }\n",
       "\n",
       "    .dataframe tbody tr th {\n",
       "        vertical-align: top;\n",
       "    }\n",
       "\n",
       "    .dataframe thead th {\n",
       "        text-align: right;\n",
       "    }\n",
       "</style>\n",
       "<table border=\"1\" class=\"dataframe\">\n",
       "  <thead>\n",
       "    <tr style=\"text-align: right;\">\n",
       "      <th></th>\n",
       "      <th>Product_Name</th>\n",
       "      <th>Reviews</th>\n",
       "      <th>Original_Price</th>\n",
       "      <th>Offer_Price</th>\n",
       "      <th>Discount</th>\n",
       "      <th>Free_Gifts</th>\n",
       "    </tr>\n",
       "  </thead>\n",
       "  <tbody>\n",
       "    <tr>\n",
       "      <th>0</th>\n",
       "      <td>L'Oreal Paris Glycolic Bright Serum With Glyco...</td>\n",
       "      <td>5109.0</td>\n",
       "      <td>MRP:₹749</td>\n",
       "      <td>599.0</td>\n",
       "      <td>20% Off</td>\n",
       "      <td>NaN</td>\n",
       "    </tr>\n",
       "  </tbody>\n",
       "</table>\n",
       "</div>"
      ],
      "text/plain": [
       "                                        Product_Name  Reviews Original_Price  \\\n",
       "0  L'Oreal Paris Glycolic Bright Serum With Glyco...   5109.0       MRP:₹749   \n",
       "\n",
       "   Offer_Price Discount Free_Gifts  \n",
       "0        599.0  20% Off        NaN  "
      ]
     },
     "execution_count": 29,
     "metadata": {},
     "output_type": "execute_result"
    }
   ],
   "source": [
    "product_data.head(1)"
   ]
  },
  {
   "cell_type": "markdown",
   "id": "d6ad87d3",
   "metadata": {},
   "source": [
    "##### "
   ]
  },
  {
   "cell_type": "markdown",
   "id": "9fee56be",
   "metadata": {},
   "source": [
    "##### "
   ]
  },
  {
   "cell_type": "markdown",
   "id": "76cd6282",
   "metadata": {},
   "source": [
    "##### finding the maximum number of reviews that a product has and display the name of that product"
   ]
  },
  {
   "cell_type": "code",
   "execution_count": 30,
   "id": "577c5d0e",
   "metadata": {},
   "outputs": [
    {
     "name": "stdout",
     "output_type": "stream",
     "text": [
      "The highest review given is 188881.0 and the Products with the highest review are : ['Nykaa Naturals Skin Secrets Exotic Indulgence Sheet Mask'\n",
      " 'Nykaa Skin Secrets Exotic Indulgence Gold Sheet Mask For Rev...'\n",
      " 'Nykaa Skin Secrets Exotic Indulgence Rose + Goat Milk Sheet ...'\n",
      " 'Nykaa Skin Secrets Exotic Indulgence Honey + Lavender Sheet ...'\n",
      " 'Nykaa Skin Secrets Exotic Indulgence Rice Water + White Tea ...'\n",
      " 'Nykaa Skin Secrets Exotic Indulgence Strawberry + Argan Oil ...'\n",
      " 'Nykaa Skin Secrets Exotic Indulgence Green Tea + Aloe Vera S...'\n",
      " 'Nykaa Skin Secrets Exotic Indulgence Black Mud + Aloe Vera S...'\n",
      " 'Nykaa Skin Secrets Exotic Indulgence Rice + Camellia Sheet M...'\n",
      " 'Nykaa Skin Secrets Exotic Indulgence Acai Berry + Pomegranat...'\n",
      " 'Nykaa Skin Secrets Exotic Indulgence Snail Sheet Mask For Fi...'\n",
      " 'Nykaa Skin Secrets Exotic Indulgence Charcoal + Bamboo Sheet...'\n",
      " 'Nykaa Skin Secrets Exotic Indulgence Avocado + Moringa Sheet...'\n",
      " 'Nykaa Skin Secrets Exotic Indulgence Matcha Tea+Chamomile Sh...'] \n"
     ]
    }
   ],
   "source": [
    "a = product_data['Reviews'].max()  # Get the maximum value in the column\n",
    "\n",
    "\n",
    "row = product_data[product_data['Reviews'] == a]\n",
    "values1=row['Product_Name'].values\n",
    "print(\"The highest review given is {0} and the Products with the highest review are : {1} \".format(a,values1))"
   ]
  },
  {
   "cell_type": "markdown",
   "id": "9ee22be6",
   "metadata": {},
   "source": [
    "##### "
   ]
  },
  {
   "cell_type": "markdown",
   "id": "8218a29f",
   "metadata": {},
   "source": [
    "##### displaying the product that has the least number of reviews"
   ]
  },
  {
   "cell_type": "code",
   "execution_count": 31,
   "id": "8495df27",
   "metadata": {},
   "outputs": [
    {
     "name": "stdout",
     "output_type": "stream",
     "text": [
      "The lowest review given is 1.0 and the Products with the lowest review are : ['The Ordinary Multi-Peptide Eye Serum'\n",
      " \"L'Oreal Paris Glycolic Acid Glowing And Protecting C-S-M-S R...\"\n",
      " 'Amrutam Ayurvedic Travel Essentials Luxury Gift Bag'\n",
      " 'Clinique Moisture Surge Value Set'\n",
      " 'Nykaa Wanderlust Spanish Olive Shower Gel'\n",
      " 'Mom & World Kidsy Natural Lip Balm - Kola Flavor + Fruit Can...'\n",
      " \"Victoria's Secret 12 Days Of Discovery Fragrance Gift\"\n",
      " 'FOREO IRIS Illuminating Eye Massager - Mint'\n",
      " 'Sol de Janeiro Bum Bum Beats Set'\n",
      " 'Nykaa Naturals Skin Secrets Green Tea & Collagen Sleeping Ma...'\n",
      " \"L'Oreal Paris Hyaluronic Acid Hydrating And Protecting C-S-M...\"\n",
      " 'Clinique Great Skin For Him'\n",
      " \"Victoria's Secret Bombshell Fragrance Gift Set\"\n",
      " 'DIOR Capture Totale C.E.L.L. Energy Super Potent Age-Defying...'\n",
      " 'Dove Deeply Nourishing Shower + Shaving Mousse With Cotton O...'\n",
      " 'Recode Hyaluronic Acid Glow Mist'\n",
      " 'The Body Shop Edelweiss Intense Smoothing Day Cream'\n",
      " 'Lancome Advanced Genifique Yeux Youth Activating Eye Cream'\n",
      " 'Sea Water & Snail Essence Sleeping Mask - Pack of 2'\n",
      " 'Kama Ayurveda Pure Rose Water & Kumkumadi Serum'\n",
      " 'Bath & Body Works Juniper Sage Body Wash' 'Bare Body Plus Fix It Cream'\n",
      " 'Estee Lauder Firm + Lift - Skincare Wonders Set'\n",
      " 'Aqualogica Detan + Concentrate Face Serum With Cherry Tomato...'\n",
      " 'Plum Thinkderma 1% Resveratrol & Vitamin C Youthful Glow Moi...'\n",
      " 'Estee Lauder Perfectionist Pro Rapid Brightening Treatment'\n",
      " 'Farmacy Beauty Honey Potion Plus Ceramide Hydration Mask'\n",
      " 'COSRX Balancium Ceramide Lip Butter Sleeping Mask'\n",
      " 'Love Beauty & Planet Body Care Gift Set'\n",
      " 'Elizabeth Arden Hyaluronic Acid Ceramide Capsules Hydra-Plum...'\n",
      " 'COSRX Refresh AHA BHA Vitamin C Lip Plumper'\n",
      " \"Johnson's Baby Cotton Touch Cream (Pack of 2)\"\n",
      " 'O3+ Vitamin-C Brightening Regime Kit For Radiant & Glowing S...'\n",
      " 'Bath & Body Works Dream Bright Travel Size Shower Gel'\n",
      " \"Victoria's Secret Noir Tease Large Box\"\n",
      " 'The Body Shop Jolly & Juicy Strawberry Essentials Gift'\n",
      " 'Furr Sunscreen Body Spray With SPF 50 PA+++ No white-cast, N...'\n",
      " \"L'Occitane Immortelle Divine Foaming Cleansing Cream With AH...\"\n",
      " 'Nudestix Nudescreen Daily Mineral Veil SPF 30'\n",
      " 'FAE Beauty Face Mop Deep Cleansing Balm'\n",
      " \"Victoria's Secret Vanilla Sapphire Orchid Exclusive Ramadan ...\"\n",
      " 'Givenchy Prisme Libre Primer & Mist'\n",
      " \"Victoria's Secret Coco Vanilla Whipped Body Scrub\"\n",
      " 'SUGAR POP SPF 50 Sunscreen With PA+++ For UVA & UVB Light Pr...'\n",
      " 'Bath & Body Works Eucalyptus Lavender Salt Body Scrub'\n",
      " 'Nykaa Wanderlust French Lavender Shower Gel & Bath Sponge - ...'\n",
      " 'VILVAH Milk Mud Mask'\n",
      " \"Charlotte Tilbury Charlotte'S Recovery Skin Set (SPF) - Limi...\"\n",
      " 'The Love Co. Organic Luxury Face Toner Power Glow'\n",
      " 'Charlotte Tilbury The Secret To Supermodel Eyes - Limited Ed...'\n",
      " 'e.l.f. Cosmetics Super Revitalize Mask'\n",
      " 'Bath & Body Works A Thousand Wishes Whipped Glow-Tion'\n",
      " 'Farmacy Beauty 1% Vitamin A Retinol Serum'\n",
      " \"Victoria's Secret Pink Coco Vanilla Comforting Body Lotion\"\n",
      " 'Jo Malone London Bath & Body Indulgent Set (Limited Edition)'\n",
      " 'Nat Habit Fresh Pure Aloe Vera Gel for Healthy Skin & Hair -...'\n",
      " 'Caudalie Tik Tok Essentials Set'\n",
      " 'Jeva Hyaluronic Acid Hydrating Water Cream For Normal To Dry...'\n",
      " 'MCaffeine Body Exfoliator With Aha- 10% & Green Tea'\n",
      " \"Victoria's Secret Bombshell Large Gift Set\"\n",
      " 'Nykaa Naturals Anti-pigmentation & Glowing Skin Face Wash Co...'\n",
      " 'Bath & Body Works Teakwood Daily Nourishing Body Lotion'\n",
      " 'Kaya Spot On Spot Gone Serum'\n",
      " 'Nykaa Wanderlust Spanish Olive Combo - Shower Gel + Body Lot...'\n",
      " 'Bath & Body Works After Dark Ultimate Hydration Body Cream'\n",
      " 'Sanfe Beauty Under Eye Gel Pads'\n",
      " 'Earth Rhythm Invisible Sunserum SPF 50 For Men & Women'\n",
      " 'COSRX Pure Fit Cica Clear Cleansing Oil'\n",
      " 'LANEIGE Water Bank Blue Hyaluronic 2 Step Essential Set For ...'\n",
      " 'COSRX AC Collection Lightweight Soothing Moisturizer'\n",
      " \"L'Occitane Complete Anit-aging Regimen\" 'Lancome Mousse Eclat'\n",
      " 'Farmacy Beauty Healthy Skin Starter Kit (Cleansing Balm + 2%...'\n",
      " 'COSRX Hydrium Centella Aqua Soothing Ampoule'\n",
      " 'Nykaa Love Struck Stolen Glance Shower Gel + Body Lotion + P...'\n",
      " 'House Of Beauty Nipple Patches ( 50 Pcs)'\n",
      " 'FAE Beauty Ten on Ten Gift Box'\n",
      " 'Smashbox On-Set Essentials Mini Primer Trio Kit'\n",
      " 'FAE Beauty The Festive Gift Box'\n",
      " 'Bath & Body Works Juniper Sage Moisturizing Body Lotion'\n",
      " 'Clinique Anti-blemish Solutions Clarifying Lotion'\n",
      " 'Farmacy Beauty Clearly Clean Makeup Removing Cleansing Balm'\n",
      " \"Victoria's Secret Cucumber Water Refreshing Body Scrub\"\n",
      " 'Online Quality Store Chandan Powder Pure & Natural For Hair ...'\n",
      " 'Bath & Body Works Whiskey Reserve Daily Nourishing Body Loti...'\n",
      " 'M.A.C #Self-Care Skincare Duo - Mattify'\n",
      " 'Bath & Body Works Cinnamon Sandalwood Ultimate Hydration Bod...'\n",
      " 'Embryolisse Smoothing Eye Contour Care'\n",
      " 'Bath & Body Works Sapphire Moon Daily Nourishing Body Lotion'\n",
      " 'True Kind AHA Brightening Exfoliant Cleanser 2% Glycolic Aci...'\n",
      " 'Dr.Batras Pro+ Aloe Facial Gel, Get Glowing Skin, Suitable f...'\n",
      " 'Kimirica Organic Moroccan Argan Oil'\n",
      " 'Farmacy Beauty Daily Greens Oil-Free Gel Moisturizer With Hy...'\n",
      " 'Murad Retinol Youth Renewal Eye Mask (5 Pairs)'\n",
      " 'ECOVANI Organics Moisturizing Cold Cream For Glowing Skin'\n",
      " 'Clinique 3-step Mini Kit Skin Type 2'\n",
      " 'UrbanYog Black & Whitehead Remover Nose Strips (4 Strips)'\n",
      " \"L'Occitane Reine Blanche Brightening Rich Cream\"\n",
      " 'Kazarmaa Ice Roller Massage for Face Toning - Purple'\n",
      " 'FOREO LUNA™ 3 Facial Cleansing & Firming Massage For Combina...'\n",
      " 'Just Herbs Plant Based Retinol Age-Defying Serum Face Sheet ...'\n",
      " 'Carlton London Perfume Vanilla Bomb Shower Gel'\n",
      " 'Bare Body Plus Bum Cream' 'Kora Organics Minty Mineral Hydration Mist'\n",
      " 'Shiseido Benefiance Wrinkle Smoothing Cream'\n",
      " 'BiE Super Peptide Turn-around Serum'\n",
      " \"Victoria's Secret Love Spell Mini Mist & Lotion Duo Gift Set\"\n",
      " \"Victoria's Secret Summer In The Sun Forever Summer Fragrance...\"\n",
      " 'Azah Gift Box Sharing is Love Amazing Self-Care Combo'\n",
      " 'St. Ives Hydrate & Glow Watermelon Face Moisturizer'\n",
      " \"L'Occitane Immortelle Precious Enriched Emulsion\"\n",
      " 'Bath & Body Works Sage Cedarwood Moisturizing Body Lotion'\n",
      " \"L'Occitane Cherry Blossom Shower Gel Eco-Refill\"\n",
      " 'The Body Shop Rich & Creamy Avocado Essentials Gift'\n",
      " 'Fabessentials Coconut Cardamon Lip Butter'\n",
      " 'VOESH Deluxe Pedicure In A Box (4 Step) - Tangerine Twist'\n",
      " 'Dermafique Hydra Soft Nourishing Body Wash'\n",
      " 'Getmecraft Ice Roller For Face & Eye, 2 In 1 Puffiness, Migr...'\n",
      " 'Dermalogica Daily Glycolic Cleanser'\n",
      " 'Buds & Berries Skin Smoothing Bulgarian Rose Sheet Mask'\n",
      " 'Jo Malone London Wood Sage & Sea Salt Miniature Luxuries Tri...'\n",
      " 'Wild Organic Ubtan Face And Body Pack Natural Powder'\n",
      " 'The Body Shop Himalayan Charcoal Skin Clarifying Night Peel'\n",
      " 'Colorbar Vita Hemp Restoring & Balancing Clay Mask'\n",
      " 'Bath & Body Works Juniper Sage Ultimate Hydration Body Cream'\n",
      " 'Caudalie Resveratrol-Lift Lightweight Firming Cashmere Cream'\n",
      " 'Bath & Body Works Smoked Old Fashioned Daily Nourishing Body...'\n",
      " 'FOREO IRIS Illuminating Eye Massager - Magenta'\n",
      " 'TAC - The Ayurveda Co. Kumkumadi Face Moisturiser'\n",
      " 'Nykaa Wanderlust Ethiopian Coffee Combo - Shower Gel And Bod...'\n",
      " \"Victoria's Secret Bombshell Medium Gift Set\" 'EVE LOM Rescue Mask'\n",
      " \"Victoria's Secret Cherry Elixir Limited Edition Decadent Eli...\"\n",
      " 'Sotrue Nose Pore Deep Cleansing Strips With Aloe Vera, Charc...'\n",
      " 'Just Herbs Sanface Chandan Glow Face Pack For Skin Tightenin...'\n",
      " 'By Terry Hyaluronic Hydra Global Face Cream'\n",
      " 'St. Ives Rosy Glow Rose Micellar Water With 100% Natural Ext...'\n",
      " \"L'Occitane Verbena Summer Wishlist Collection\"\n",
      " 'Moroccanoil Shower Gel Spa Du Maroc'\n",
      " 'Soulflower Exfoliating & Cleansing Body Scrub & Bath Salt Sa...'\n",
      " 'Dermatouch Undamage Ultra Matte Sunscreen Gel SPF 50 PA+++'\n",
      " 'Kimirica Sugar Coconut Hydrating Body Yogurt'\n",
      " 'Essentia Extracts Cold Pressed Pumpkin Seed Oil - 100 Ml'\n",
      " 'Milani Flora Tinted Lip Balm'\n",
      " 'Dermalogica Powerbright Moisturizer SPF 50'\n",
      " 'Just Herbs Sun Protection Lotion For Men & Women - Paraben -...'\n",
      " \"Kiehl's Body Hydration Starter Kit with Hand Cream, Body Moi...\"\n",
      " 'Ayouthveda Oat Silk & Honey Face Serum Sheet Mask for Glowin...'\n",
      " 'Kaya Prebiotic Serum' 'Fixderma Cosmetic Laboratories Ha4 Plus'\n",
      " 'Lacto Calamine Vitamin C Foaming Face Wash'\n",
      " 'e.l.f. Cosmetics Pure Skin Toner'\n",
      " 'Majestique Foot File with Handle - Professional Pedicure for...'\n",
      " 'Swiss Image Refreshing Cleansing Milk'\n",
      " 'Fran Wilson Moodmatcher 10 Pcs Moodmatcher Collection'\n",
      " \"L'Occitane Cade Revitalizing Cream\"\n",
      " 'CGG Cosmetics Ultra Protect Hand Cream SPF 45 PA+++ (Pack Of...'\n",
      " 'Juicy Chemistry Under Eye Serum'\n",
      " 'Kora Organics Noni Night Aha Resurfacing Serum'\n",
      " 'FOREO LUNA™ 3 Facial Cleansing & Firming Massage For Normal ...'\n",
      " 'Nykaa Naturals Skin Secrets Sea Kelp & Ceramides Sleeping Ma...'\n",
      " 'MCaffeine Vitamin C Green Tea Face Wash'\n",
      " 'St. Ives Clear Glow Tea Tree Micellar Water With 100% Natura...'\n",
      " 'Sara Caffeine D Tan Mask'\n",
      " 'PMD Personal Microderm Elite Pro - Revolutionary At-Home Mic...'\n",
      " 'Guerlain Abeille Royale Mattifying Day Cream'\n",
      " 'Mario Badescu Super Peptide Serum'\n",
      " 'Tulips White Musk Handmade Bathing Bar'\n",
      " 'Nudestix Nudeskin Lemon-Aid Detox & Glow Micro-Peel'\n",
      " 'Fasderma - Radiant Skin Flash Peel - 10% Glycolic Acid+2% Al...'\n",
      " 'DIOR Miss Dior Fresh Body Creme'\n",
      " 'Matra Reusable Makeup Remover Cleansing Pad'\n",
      " \"Victoria's Secret Bare Fine Fragrance Lotion\"\n",
      " 'Fabessentials Vitamin E Calendula Suncreen'\n",
      " 'Thalgo Wrinkle Correcting Gel Cream - Anti-Ageing Cream For ...'\n",
      " 'Givenchy Skin Perfecto Lotion' 'e.l.f. Cosmetics Pure Skin Cleanser'\n",
      " 'Le Marbelle Silicone Double Ended Face Mask Brush'\n",
      " \"L'Occitane Body Care Duo\" \"L'Occitane Box Of Roses with Hand cream\"\n",
      " 'Glutaweis Radiance Serum With Glutathione, Pentavitin, Vitam...'\n",
      " 'Bella Vita Organic C - Glow Facial Kit'\n",
      " 'Zoe Ayla Blackhead Extractor Tool'\n",
      " 'Moroccanoil Shower Gel Bergamot Fraiche'\n",
      " 'Quench Botanics Yuzu Fine Brightening Lip Oil'\n",
      " 'Fixderma Cosmetic Laboratories Chemfree SPF 30'\n",
      " 'Givenchy Blanc Divin Brightening Serum Global Skin Radiance'\n",
      " 'PIXI Dream-y Mist' 'Farmacy Beauty Hydrating Coconut Gel Sheet Mask'\n",
      " 'e.l.f. Cosmetics Keep Your Balance Toner'\n",
      " 'Jeva Pearl Anti Ageing Eco Facial Kit - All Skin Type'\n",
      " 'Jeva Pearl Anti Aging Gel For Collagen Boost & Wrinkle Free'\n",
      " 'Earth Rhythm Rose & Coconut Water Butter Lotion'\n",
      " \"L'Occitane Immortelle Youth Starter Trio\"\n",
      " 'Khadi Organique Saffron & Papaya Anti Wrinkle Cream' 'EVE LOM Cleanser'\n",
      " \"Johnson's Baby Top To Toe Bath (Pack of 2)\" 'Ghar Soaps Detan Face Pack'\n",
      " 'True Kind BHA & Tea Tree Acne Clearing Toner 2% Salicylic Ac...'\n",
      " 'BiE Moongleam- Precious Gel Cream'\n",
      " 'Nat Habit 100% Pure Cold Pressed Sesame Oil'\n",
      " 'Missha Bee Pollen Renew Treatment' 'Fem Fairness Bleach (Pack Of 3)'\n",
      " 'Nykaa Naturals Blemish Free Skin Duo - Rosehip & Pomegranate...'\n",
      " 'Matra Goat Milk & Shea Butter Invigorating Soap'\n",
      " 'Murad Blemish Clarifying Cream Cleanser'\n",
      " 'Bella Vita Organic Kumkumadi Face Scrub Mask'\n",
      " 'The Body Shop Edelweiss Serum Concentrate Sheet Mask'\n",
      " 'Bharat & Dorris Lip Balm' 'Ciel Skin Brightening Glow Serum'\n",
      " 'WOW Skin Science Himalayan Rose Lip Balm'\n",
      " 'Love Beauty & Planet Aloe Vera & Eucalyptus Hydro Body Gel'\n",
      " 'Mario Badescu Lip Mask With Acai And Vanilla'\n",
      " 'Amrutam Personal Care Travel Pack - Hair Spa + Body Lotion +...'\n",
      " 'Dermatouch Mild Cleansing Lotion For Sensitive Skin'\n",
      " 'Thank You Farmer Miracle Age Repair Serum'\n",
      " 'Farmacy Beauty Brightening Coconut Gel Sheet Mask With Plant...'\n",
      " 'Nat Habit Fresh Beetroot Tomato Vit-A Gel for Dry Skin Care ...'\n",
      " 'Jo Malone London Blackberry & Bay Bath Soap'\n",
      " 'Brillare Vitamin C Powder Face Wash For Glowing, Bright Look...'\n",
      " 'Panchvati Herbals Cleansing Milk With Herbs - Pack Of 2'\n",
      " 'Kaya Salicylic Clay Mask'\n",
      " \"Victoria's Secret Natural Beauty Moisturizing Cream Body Was...\"\n",
      " 'NEOGEN DERMALOGY Lemon Bright PHA Gauze Peeling'\n",
      " \"It's Skin Collatoning Serum\"\n",
      " \"L'Occitane Skin Moisturizing Travel Set With Face Serum & Cr...\"\n",
      " 'Natural Vibes Moisturising Body Lotion'\n",
      " 'FCL BiPhasic Instant Makeup Remover, For Removes Eye, Lip, W...'\n",
      " 'Carlton London Perfume Lychee Champagne Shower Gel'\n",
      " 'Khadi Organique Jasmine Green Tea Foot Crack Cream'\n",
      " 'NUXE Very - Rose - Ultra - Fresh Cleansing Gel - Mask'\n",
      " 'Nat Habit Balamool Nimbuka Summer Pure Baby Maahu Massage Oi...'\n",
      " 'PIXI Clarity Concentrate' 'BiE Pro Youth Serum'\n",
      " \"L'Occitane Immortelle Precious Cleansing Foam\"\n",
      " 'Kimirica Passionate Fruit Scented Hand Lotion'\n",
      " 'L.A. Girl Hydrating Face Mist - Dragon Fruit'\n",
      " 'Keya Seth Aromatherapy, 24k Gold Rubber Facial Mask For Brig...'\n",
      " 'Nykaa Naturals Anti Pigmentation Skin Potion + Glow Boosting...'\n",
      " 'TNW The Natural Wash Coffee Lip Balm With SPF 15'\n",
      " 'Just Herbs Radiance Booster Cream SPF 30+' 'Murad Daily Clarifying Peel'\n",
      " 'Organic Harvest 4 In 1 Diamond Glow Facial Kit Mulberry & La...'\n",
      " 'LAFZ Caffeine Face Wash Arabica Coffee'\n",
      " 'NUXE - Sun - After - Sun Hair & Body Shampoo'\n",
      " 'Dermatouch Vitamin C 3% Face Wash For Glowing Skin'\n",
      " 'NUXE Creme Prodigieuse Boost Night Recovery Oil Balm'\n",
      " 'Kimirica Blooming Garden Scented Hand Wash & Hand Lotion'\n",
      " 'Dyna Milk Cream & Almond Oil - Pack For 4' 'Amrutam Kumkumadi Oil'\n",
      " 'Elizabeth Arden Ceramide Premier Intense Moisture And Renewa...'\n",
      " 'Fem Saffron Bleach (Pack Of 3)'\n",
      " 'DHC Beauty Medicated Skin Conditioner Face Wash'\n",
      " 'Nat Habit 100% Pure Cold Pressed Jojoba Oil'\n",
      " 'Kelesta Alluring Aloe Vera Gel'\n",
      " 'Ecoberry Pure Steam Distilled Rose Water'\n",
      " 'Panchvati Herbals Face Cream For Men & Women - Pack Of 2'\n",
      " 'Sara Bilberries Face Mould Mask No 12'\n",
      " 'NUXE Creme Fraiche De Beaute 48hr Moisturising Cream'\n",
      " 'Mom & World Kidsy Natural Lip Balm - Fruit Candy + Marshmall...'\n",
      " 'Neemli Naturals Retinol & Peptide Serum'\n",
      " 'Prolixr Jeju Volcanic Face Mask'\n",
      " 'Epique Switzerland Intensive Revitalising Eye Formula'\n",
      " 'Mother Sparsh Turmeric Healing Kit - Reduces Dark Spots & Hy...'\n",
      " 'Diego dalla Palma Milano Anti Spot Serum & Anti Wrinkle Day ...'\n",
      " 'House Of Beauty De-Tan Mask With Arbutin & Licorice'\n",
      " 'Guerlain Midnight Secret' 'Fixderma Fidelia Daily Moisture Body Lotion'\n",
      " 'Epique Switzerland Express Brightening Mask'\n",
      " 'Ohria Ayurveda Glass Eye Cups'\n",
      " 'Tulips Handmade Bathing Bar Soap - Redbud & Sakura'\n",
      " 'Soulflower Rosemary Oil Healthy Hair & Shiny Skin Pure Combo'\n",
      " 'Fabessentials Aloe Vera Camellia Leaves Face Scrub'\n",
      " 'True Kind Manjistha & Saffron Gel Face Moisturiser for Brigh...'\n",
      " 'Love Organically Anti Acne Natural Face Pack'\n",
      " \"L'Occitane Shea Golden Bath Bomb\"\n",
      " 'Khadi Organique Kumkumadi Face Serum For Radiance Glow Skin'\n",
      " 'The Moms Co. Natural Anti-cellulite Toning Body Oil - Tighte...'\n",
      " \"L'Occitane Skin Warriors Gift Set\"\n",
      " \"L'Occitane Shea Hands & Body Verbena Liquid Soap Eco-Refill ...\"\n",
      " \"Victoria's Secret Cool And Bright Fragrant Body Lotion\"\n",
      " 'Colorbar Co-Earth Vitamin C Sleeping Face Mask'\n",
      " 'Khadi Organique Ayurvedic Handmade Herbal Soap Kit'\n",
      " 'Just Herbs Papaya + Lemon Spot Control Foaming Face Wash'\n",
      " 'Skin Cottage Lavender Peach Essence Bath + Scrub Body Bath'\n",
      " 'Tulips Honey & Lemon Handmade Bathing Bar'\n",
      " 'PMD Personal Microderm Pro - Revolutionary At-Home Microderm...'\n",
      " 'NUXE Nuxuriance Ultra Eye And Lip Contour Anti-ageing Cream'\n",
      " 'Swiss Image Essential Care Soothing Face Wash Cream'\n",
      " 'Nat Habit Must Have 6 Piece Absolutely Necessary 100% Natura...'\n",
      " 'NUXE Reve De Miel Exfoliating and Nourishing Body Scrub with...'\n",
      " 'Farmacy Beauty Honey Savior All-In-One Skin Repair Salve'\n",
      " 'Moroccanoil Hand Cream Oud Mineral'\n",
      " 'GUBB Facial Ice Wave Ball For Face And Eyes Facial Cooling M...'\n",
      " 'Khadi Organique Neem Tulsi Face & Body Wash'\n",
      " 'The Love Co. Organic Luxury Aloe Body Lotion'\n",
      " 'The Love Co. Organic Luxury Vitamin C Body Lotion'\n",
      " 'Jeva Skin Lightening Cream'\n",
      " 'Oziva Bioactive Niacinamide 79 Face Cleanser for Acne and Sp...'\n",
      " 'FOREO LUNA™ Play Plus 2 Travel-Friendly Facial Cleansing - P...'\n",
      " 'Juicy Chemistry Prebiotic Ferment Barrier Repair Face Serum'\n",
      " 'Footlogix Pediceuticals Peeling Skin Formula Mousse'\n",
      " 'Nudestix Nudeskin 3-Step Citrus Skin Renewal For Gentle Skin'\n",
      " 'Shahnaz Husain Fairy One Natural Glow Cream'\n",
      " 'NUXE Creme Prodigieuse Boost Multi-correction Gel Cream'\n",
      " \"Victoria's Secret Natural Beauty Mini Hydrating Body Lotion ...\"\n",
      " 'Kazarmaa Derma Roller 0.5 MM with 540 Micro Needles'\n",
      " 'Jo Malone London Velvet Rose & Oud Body Creme'\n",
      " 'Khadi Organique Vitamin C Face Serum For Youthful & Glowing ...'\n",
      " \"NutroActive Fuller's Earth (Multani Mitti) Powder (Pack of 2...\"\n",
      " 'Boroplus Aloe Neem Body Lotion' 'Mustela Baby Oil'\n",
      " 'Riyo Herbs Papaya Face Gel Skin Moisturizing'\n",
      " 'Earth Rhythm Smooth Skin Exfoliating Body Lotion'\n",
      " \"L'Occitane Volumising Hair Starter Pack\"\n",
      " 'Just Herbs Fagel Instant Glow Beauty Gel'\n",
      " 'Fabessentials Neem Tulsi Moringa Facial Water'\n",
      " 'Matra Ice Roller Facial Massager Tool for Face Toning Eye Pu...'\n",
      " \"Victoria's Secrettease Noir Medium Gift Set\"\n",
      " 'Keya Seth Aromatherapy Shahi Ubtan Scrub'\n",
      " 'OrangeDaily Vitamin C Dual Action Whitening Cream'\n",
      " 'Just Herbs Aloe Vera Wheatgerm Cascade Day Care Body Lotion ...'\n",
      " 'Zobha Face & Body Polisher 24 CT Gold Facial Gel'\n",
      " 'Nacific Pink AHA/BHA Kit'\n",
      " 'Shesha Ayurveda Pure Kasturi Manjal Mist - Face & Body Mist ...'\n",
      " 'Inja Fit Marine Collagen For Skin, Joints And Muscles, With ...'\n",
      " 'Butter London Lippy Lip Scrub'\n",
      " 'Biotique Morning Nectar Moisturizing Cream Bathing Bar Combo...'\n",
      " 'Matra Coffee Face Mask with Niacinamide'\n",
      " 'Diego dalla Palma Milano Vitamin C & Glutathione 15% Brighte...'\n",
      " 'Online Quality Store Chandan Powder For Skin Whitening'\n",
      " 'LISEN Hyaluronic Acid Face Serum With Centella Asiatica For ...'\n",
      " 'Essentia Extracts Luxx Lavender Lip Scrub'\n",
      " 'VOESH Deluxe Pedicure In A Box (4 Step) - Eucalyptus Energy ...'\n",
      " 'Quench Birch Please Sheet Mask For Intense Hydration, Deep C...'\n",
      " 'OTT SKYNCARE Hydro-Drip Hyaluronic Acid Serum With 24hr Hydr...'\n",
      " 'Bath & Body Works Sapphire Moon Ultimate Hydration Body Crea...'\n",
      " \"Dr.Batra's Pro+ Insta Glow Facial Scrub\"\n",
      " \"L'Occitane Balance & Colour Treated Hair Care Starter Set\"\n",
      " 'Khadi Organique Sunscreen Lotion SPF 50'\n",
      " 'Glamveda Skincare Rose Facial Toning Mist' 'Reverzo Anti-Acne Face Wash'\n",
      " 'Dr Batras Pro + Clear Skin Sheet Mask,Get Glowing Skin, Para...'\n",
      " 'VLCC Eternal Youth Skin Firming Under Eye Gel'\n",
      " \"Nature's Essence Panch Tattva Signature Facial Kit\"\n",
      " 'Light Up Unmask Your Glow Multi-Masking Set'\n",
      " 'SANCTUS Underarm Lightening & Dark Spot Reduction Cleanser'\n",
      " \"L'Occitane Immortelle Harmonie Divine Anti-Aging Serum Refil...\"\n",
      " \"L'Occitane Shea Butter Ultra Rich Body Cream Eco-Refill For ...\"\n",
      " 'Panchvati Herbals Professional Straightening Cream - Pack Of...'\n",
      " 'The Moms Co. Natural Baby Bottom Wash'\n",
      " 'Kimirica The Advanced Brightening Set'\n",
      " 'Online Quality Store Chandan Powder + Orange Peel Powder + M...'\n",
      " 'Fabessentials Turmeric Saffron Marigold Body Butter'\n",
      " 'Yves Rocher Sebo Pure Vegetal Moisturizing Anti Blemish Care'\n",
      " 'Makeup Revolution Rehab Eye Injection Under Eye Serum'\n",
      " 'BOTNAL Gumica Double Cleanse Makeup Remover With Hyaluronic ...'\n",
      " 'GlowCollagen Peptides 1000mg Tablets - Pineapple Flavour (Pa...'\n",
      " 'Fabessentials Sandalwood Eucalyptus Saffron Body Lotion'\n",
      " 'VOESH Luxurious Pedicure In A Box (Ultimate 6 Step) - Sage F...'\n",
      " 'VOESH Luxurious Pedicure In A Box (Ultimate 6 Step) - Aloe A...'\n",
      " 'Ghar Soaps Anti Ageing Ayurvedic Face Oil For Glowing Skin'\n",
      " 'Deve Herbes Plant Based Vitamin C Face Serum'\n",
      " \"L'Occitane Shea Rose Liquid Soap\"\n",
      " 'Bath & Body Works Japanese Cherry Blossom Bubble Bath'\n",
      " 'Sebastian Professional Dark Oil Combo With Volupt Spray'\n",
      " 'Buds & Berries Fruit Nourish Kiwi Body Butter For Soothing M...'\n",
      " 'FOREO UFO™ Mini 2 Supercharged Facial Skincare Device - Pear...'\n",
      " \"L'Occitane Shea Chestnut Bath Bomb\" 'House Of Beauty Frownie Patches'\n",
      " \"L'Occitane 7 Day Advent Calendar with Bestseller Minis\"\n",
      " 'Dyna Rose Extract & Milk Cream - Pack For 4'\n",
      " 'SoulTree Advanced Kumkumadi Refined Radiance Night Cream'\n",
      " 'NEA Green Tea Face Toner'\n",
      " 'Ariul Stress Relieving Purefull - Cleansing Foam'\n",
      " 'ENN Ghee Lip Balm With Honey & Vitamin E - Set Of 2'\n",
      " 'Sotrue Salicylic Acid Face Wash With 2% Salicylic Acid + AHA...'\n",
      " \"L'Occitane Rose Fresh Mist\" 'NUXE Insta-Masque Purifying Smoothing Mask'\n",
      " 'Quench Chialeader Shine Control Gel Face Wash And Oil Contro...'\n",
      " 'Earth Rhythm Detox Soap With Argan Oil'\n",
      " 'Khadi Organique Sandalwood Essential Oil'\n",
      " \"L'Occitane Osmanthus Mini Gift Box\"\n",
      " 'Caudalie Vinosource - Hydra Set 2022' \"Rahul Phate's N-light Cleanser\"\n",
      " 'Axe Black 3 In 1 Body, Face & Hair Wash For Men'\n",
      " 'Oshea Herbals Phyto Age Reversal Skin Moisturizing Emulsion'\n",
      " 'Joy Pure Aloe Multi Benefit Skin Cream - Pack of 2'\n",
      " 'Amrutam Itchy Scalp & Dandruff Combo - Neem Oil + Kuntal Car...'\n",
      " 'Makeup Revolution Skincare Ceramides Hydrating Cleanser'\n",
      " 'Mom & World Kidsy Natural Lip Balm - Marshmallow + Kola'\n",
      " 'Givenchy Skin Ressource Cleansing Gel' \"L'Occitane Divine Starter Pack\"\n",
      " '7th Heaven Stardust Stellar Black Diamond Peel-off Black Sea...'\n",
      " 'Arata Travel Kit with Hydrating Shampoo Body Wash Toothpaste...'\n",
      " 'Charmis Deep Nourishing Cold Cream'\n",
      " 'Mom & World Kidsy Gummies Moisturising Body Lotion'\n",
      " 'Matra Papaya & Licorice Skin Lightening Soap'\n",
      " 'Cos-IQ BHA-2% Encapsulated Salicylic Acid Emulsion Serum'\n",
      " 'The Love Co. Organic Luxury Aloe Face Cream'\n",
      " 'Skivia Clove Pure Essential Oil'\n",
      " 'Ayouthveda Skin Brightening Regimen Combo of Face Wash Day C...'\n",
      " \"L'Occitane Verbena Hair & Body Invigorating Mist\"\n",
      " 'Urban Veda Reviving Rose Facial Oil'\n",
      " 'Vedic Line Vitamin C Facial Kit - 10 Pcs'\n",
      " 'Ilana Brightening And Smoothening All Day Gel With 2% Vitami...'\n",
      " 'Makeup Revolution Skincare Hydro Bank Hydrating Sleeping Mas...'\n",
      " \"Mond'Sub Vitamin C Brightening Lifting Face Serum With (3-O ...\"\n",
      " 'Missha Super Aqua Ultra Hyalron Cream' 'Khadi Organique Shikakai Soap'\n",
      " 'Missha Super Aqua Ultra Hyalron Cream' 'Khadi Organique Shikakai Soap'\n",
      " 'Missha Super Aqua Ultra Hyalron Cream' 'Khadi Organique Shikakai Soap'\n",
      " 'Missha Super Aqua Ultra Hyalron Cream' 'Khadi Organique Shikakai Soap'\n",
      " 'Missha Super Aqua Ultra Hyalron Cream' 'Khadi Organique Shikakai Soap'\n",
      " 'Missha Super Aqua Ultra Hyalron Cream' 'Khadi Organique Shikakai Soap'\n",
      " 'Missha Super Aqua Ultra Hyalron Cream' 'Khadi Organique Shikakai Soap'\n",
      " 'Missha Super Aqua Ultra Hyalron Cream' 'Khadi Organique Shikakai Soap'\n",
      " 'Missha Super Aqua Ultra Hyalron Cream' 'Khadi Organique Shikakai Soap'\n",
      " 'Missha Super Aqua Ultra Hyalron Cream' 'Khadi Organique Shikakai Soap'\n",
      " 'Missha Super Aqua Ultra Hyalron Cream' 'Khadi Organique Shikakai Soap'\n",
      " 'Missha Super Aqua Ultra Hyalron Cream' 'Khadi Organique Shikakai Soap'\n",
      " 'Missha Super Aqua Ultra Hyalron Cream' 'Khadi Organique Shikakai Soap'\n",
      " 'Missha Super Aqua Ultra Hyalron Cream' 'Khadi Organique Shikakai Soap'\n",
      " 'Missha Super Aqua Ultra Hyalron Cream' 'Khadi Organique Shikakai Soap'\n",
      " 'Missha Super Aqua Ultra Hyalron Cream' 'Khadi Organique Shikakai Soap'\n",
      " 'Missha Super Aqua Ultra Hyalron Cream' 'Khadi Organique Shikakai Soap'\n",
      " 'Missha Super Aqua Ultra Hyalron Cream' 'Khadi Organique Shikakai Soap'\n",
      " 'Missha Super Aqua Ultra Hyalron Cream' 'Khadi Organique Shikakai Soap'\n",
      " 'Missha Super Aqua Ultra Hyalron Cream' 'Khadi Organique Shikakai Soap'\n",
      " 'Missha Super Aqua Ultra Hyalron Cream' 'Khadi Organique Shikakai Soap'\n",
      " 'Missha Super Aqua Ultra Hyalron Cream' 'Khadi Organique Shikakai Soap'\n",
      " 'Missha Super Aqua Ultra Hyalron Cream' 'Khadi Organique Shikakai Soap'\n",
      " 'Missha Super Aqua Ultra Hyalron Cream' 'Khadi Organique Shikakai Soap'\n",
      " 'Missha Super Aqua Ultra Hyalron Cream' 'Khadi Organique Shikakai Soap'\n",
      " 'Missha Super Aqua Ultra Hyalron Cream' 'Khadi Organique Shikakai Soap'\n",
      " 'Missha Super Aqua Ultra Hyalron Cream' 'Khadi Organique Shikakai Soap'\n",
      " 'Missha Super Aqua Ultra Hyalron Cream' 'Khadi Organique Shikakai Soap'\n",
      " 'Missha Super Aqua Ultra Hyalron Cream' 'Khadi Organique Shikakai Soap'\n",
      " 'Missha Super Aqua Ultra Hyalron Cream' 'Khadi Organique Shikakai Soap'\n",
      " 'Missha Super Aqua Ultra Hyalron Cream' 'Khadi Organique Shikakai Soap'\n",
      " 'Missha Super Aqua Ultra Hyalron Cream' 'Khadi Organique Shikakai Soap'\n",
      " 'Missha Super Aqua Ultra Hyalron Cream' 'Khadi Organique Shikakai Soap'\n",
      " 'Missha Super Aqua Ultra Hyalron Cream' 'Khadi Organique Shikakai Soap'\n",
      " 'Missha Super Aqua Ultra Hyalron Cream' 'Khadi Organique Shikakai Soap'\n",
      " 'Missha Super Aqua Ultra Hyalron Cream' 'Khadi Organique Shikakai Soap'\n",
      " 'Missha Super Aqua Ultra Hyalron Cream' 'Khadi Organique Shikakai Soap'\n",
      " 'Missha Super Aqua Ultra Hyalron Cream' 'Khadi Organique Shikakai Soap'\n",
      " 'Missha Super Aqua Ultra Hyalron Cream' 'Khadi Organique Shikakai Soap'\n",
      " 'Missha Super Aqua Ultra Hyalron Cream' 'Khadi Organique Shikakai Soap'\n",
      " 'Missha Super Aqua Ultra Hyalron Cream' 'Khadi Organique Shikakai Soap'\n",
      " 'Missha Super Aqua Ultra Hyalron Cream' 'Khadi Organique Shikakai Soap'\n",
      " 'Missha Super Aqua Ultra Hyalron Cream' 'Khadi Organique Shikakai Soap'\n",
      " 'Missha Super Aqua Ultra Hyalron Cream' 'Khadi Organique Shikakai Soap'\n",
      " 'Missha Super Aqua Ultra Hyalron Cream' 'Khadi Organique Shikakai Soap'\n",
      " 'Missha Super Aqua Ultra Hyalron Cream' 'Khadi Organique Shikakai Soap'\n",
      " 'Missha Super Aqua Ultra Hyalron Cream' 'Khadi Organique Shikakai Soap'\n",
      " 'Missha Super Aqua Ultra Hyalron Cream' 'Khadi Organique Shikakai Soap'\n",
      " 'Missha Super Aqua Ultra Hyalron Cream' 'Khadi Organique Shikakai Soap'\n",
      " 'Missha Super Aqua Ultra Hyalron Cream' 'Khadi Organique Shikakai Soap'\n",
      " 'Missha Super Aqua Ultra Hyalron Cream' 'Khadi Organique Shikakai Soap'\n",
      " 'Missha Super Aqua Ultra Hyalron Cream' 'Khadi Organique Shikakai Soap'\n",
      " 'Missha Super Aqua Ultra Hyalron Cream' 'Khadi Organique Shikakai Soap'\n",
      " 'Missha Super Aqua Ultra Hyalron Cream' 'Khadi Organique Shikakai Soap'\n",
      " 'Missha Super Aqua Ultra Hyalron Cream' 'Khadi Organique Shikakai Soap'\n",
      " 'Missha Super Aqua Ultra Hyalron Cream' 'Khadi Organique Shikakai Soap'\n",
      " 'Missha Super Aqua Ultra Hyalron Cream' 'Khadi Organique Shikakai Soap'\n",
      " 'Missha Super Aqua Ultra Hyalron Cream' 'Khadi Organique Shikakai Soap'\n",
      " 'Missha Super Aqua Ultra Hyalron Cream' 'Khadi Organique Shikakai Soap'\n",
      " 'Missha Super Aqua Ultra Hyalron Cream' 'Khadi Organique Shikakai Soap'\n",
      " 'Missha Super Aqua Ultra Hyalron Cream' 'Khadi Organique Shikakai Soap'\n",
      " 'Missha Super Aqua Ultra Hyalron Cream' 'Khadi Organique Shikakai Soap'\n",
      " 'Missha Super Aqua Ultra Hyalron Cream' 'Khadi Organique Shikakai Soap'\n",
      " 'Missha Super Aqua Ultra Hyalron Cream' 'Khadi Organique Shikakai Soap'\n",
      " 'Missha Super Aqua Ultra Hyalron Cream' 'Khadi Organique Shikakai Soap'\n",
      " 'Missha Super Aqua Ultra Hyalron Cream' 'Khadi Organique Shikakai Soap'\n",
      " 'Missha Super Aqua Ultra Hyalron Cream' 'Khadi Organique Shikakai Soap'\n",
      " 'Missha Super Aqua Ultra Hyalron Cream' 'Khadi Organique Shikakai Soap'\n",
      " 'Missha Super Aqua Ultra Hyalron Cream' 'Khadi Organique Shikakai Soap'\n",
      " 'Missha Super Aqua Ultra Hyalron Cream' 'Khadi Organique Shikakai Soap'\n",
      " 'Missha Super Aqua Ultra Hyalron Cream' 'Khadi Organique Shikakai Soap'\n",
      " 'Missha Super Aqua Ultra Hyalron Cream' 'Khadi Organique Shikakai Soap'\n",
      " 'Missha Super Aqua Ultra Hyalron Cream' 'Khadi Organique Shikakai Soap'\n",
      " 'Missha Super Aqua Ultra Hyalron Cream' 'Khadi Organique Shikakai Soap'\n",
      " 'Missha Super Aqua Ultra Hyalron Cream' 'Khadi Organique Shikakai Soap'\n",
      " 'Missha Super Aqua Ultra Hyalron Cream' 'Khadi Organique Shikakai Soap'\n",
      " 'Missha Super Aqua Ultra Hyalron Cream' 'Khadi Organique Shikakai Soap'\n",
      " 'Missha Super Aqua Ultra Hyalron Cream' 'Khadi Organique Shikakai Soap'\n",
      " 'Missha Super Aqua Ultra Hyalron Cream' 'Khadi Organique Shikakai Soap'\n",
      " 'Missha Super Aqua Ultra Hyalron Cream' 'Khadi Organique Shikakai Soap'\n",
      " 'Missha Super Aqua Ultra Hyalron Cream' 'Khadi Organique Shikakai Soap'\n",
      " 'Missha Super Aqua Ultra Hyalron Cream' 'Khadi Organique Shikakai Soap'\n",
      " 'Missha Super Aqua Ultra Hyalron Cream' 'Khadi Organique Shikakai Soap'\n",
      " 'Missha Super Aqua Ultra Hyalron Cream' 'Khadi Organique Shikakai Soap'\n",
      " 'Missha Super Aqua Ultra Hyalron Cream' 'Khadi Organique Shikakai Soap'\n",
      " 'Missha Super Aqua Ultra Hyalron Cream' 'Khadi Organique Shikakai Soap'\n",
      " 'Missha Super Aqua Ultra Hyalron Cream' 'Khadi Organique Shikakai Soap'\n",
      " 'Missha Super Aqua Ultra Hyalron Cream' 'Khadi Organique Shikakai Soap'\n",
      " 'Missha Super Aqua Ultra Hyalron Cream' 'Khadi Organique Shikakai Soap'\n",
      " 'Missha Super Aqua Ultra Hyalron Cream' 'Khadi Organique Shikakai Soap'\n",
      " 'Missha Super Aqua Ultra Hyalron Cream' 'Khadi Organique Shikakai Soap'\n",
      " 'Missha Super Aqua Ultra Hyalron Cream' 'Khadi Organique Shikakai Soap'\n",
      " 'Missha Super Aqua Ultra Hyalron Cream' 'Khadi Organique Shikakai Soap'\n",
      " 'Missha Super Aqua Ultra Hyalron Cream' 'Khadi Organique Shikakai Soap'\n",
      " 'Missha Super Aqua Ultra Hyalron Cream' 'Khadi Organique Shikakai Soap'\n",
      " 'Missha Super Aqua Ultra Hyalron Cream' 'Khadi Organique Shikakai Soap'\n",
      " 'Missha Super Aqua Ultra Hyalron Cream' 'Khadi Organique Shikakai Soap'\n",
      " 'Missha Super Aqua Ultra Hyalron Cream' 'Khadi Organique Shikakai Soap'\n",
      " 'Missha Super Aqua Ultra Hyalron Cream' 'Khadi Organique Shikakai Soap'\n",
      " 'Missha Super Aqua Ultra Hyalron Cream' 'Khadi Organique Shikakai Soap'\n",
      " 'Missha Super Aqua Ultra Hyalron Cream' 'Khadi Organique Shikakai Soap'\n",
      " 'Missha Super Aqua Ultra Hyalron Cream' 'Khadi Organique Shikakai Soap'] \n"
     ]
    }
   ],
   "source": [
    "b = product_data['Reviews'].min()  # Get the maximum value in the column\n",
    "\n",
    "# Extract the row(s) where the 'floats_column' has the maximum value\n",
    "row = product_data[product_data['Reviews'] == b]\n",
    "values=row['Product_Name'].values\n",
    "print(\"The lowest review given is {0} and the Products with the lowest review are : {1} \".format(b,values))"
   ]
  },
  {
   "cell_type": "markdown",
   "id": "4e5817be",
   "metadata": {},
   "source": [
    "##### "
   ]
  },
  {
   "cell_type": "markdown",
   "id": "06daa8ec",
   "metadata": {},
   "source": [
    "##### "
   ]
  },
  {
   "cell_type": "markdown",
   "id": "1aa5e309",
   "metadata": {},
   "source": [
    "##### creating a function to classify the product into different categories"
   ]
  },
  {
   "cell_type": "code",
   "execution_count": 32,
   "id": "a630d670",
   "metadata": {},
   "outputs": [],
   "source": [
    "def categorize_products(text):\n",
    "    values = []\n",
    "\n",
    "    if any(word in text.lower() for word in ['mask', 'peel']):\n",
    "        values.append('Mask')\n",
    "\n",
    "    if any(word in text.lower() for word in ['day cream', 'night cream', 'moistur', 'gel moisturizer', 'face oil']):\n",
    "        values.append('Moisturizer')\n",
    "\n",
    "    if any(word in text.lower() for word in ['face wash', 'cleansing balm', 'micellar water', 'cleansing milk']):\n",
    "        values.append('Cleanser')\n",
    "\n",
    "    if '%' in text.lower():\n",
    "        values.append('Serum')\n",
    "\n",
    "    if any(word in text.lower() for word in ['toner', 'toning']):\n",
    "        values.append('Toner')\n",
    "\n",
    "    if any(word in text.lower() for word in ['hydrating serum', 'anti-aging serum', 'vitamin c serum', 'serum']):\n",
    "        values.append('Serum')\n",
    "\n",
    "    if any(word in text.lower() for word in ['sunscreen', 'spf']):\n",
    "        values.append('Sunscreen')\n",
    "\n",
    "    if any(word in text.lower() for word in ['scrub', 'exfoliant', 'exfoliating']):\n",
    "        values.append('Exfoliator')\n",
    "\n",
    "    if 'eye' in text.lower():\n",
    "        values.append('Eye Cream')\n",
    "\n",
    "    if 'shampoo' in text.lower():\n",
    "        values.append('Shampoo')\n",
    "\n",
    "    if 'conditioner' in text.lower():\n",
    "        values.append('Conditioner')\n",
    "\n",
    "    if any(word in text.lower() for word in ['coconut oil', 'argan oil', 'hair serum', 'hair treatment oil']):\n",
    "        values.append('Hair Oil')\n",
    "\n",
    "    if any(word in text.lower() for word in ['hair styling gel', 'hair mousse', 'hair spray', 'heat protectant']):\n",
    "        values.append('Styling')\n",
    "\n",
    "    if any(word in text.lower() for word in ['parfum', 'perfume', 'mist', 'fragrance']):\n",
    "        values.append('Perfumes')\n",
    "\n",
    "    if 'brush' in text.lower():\n",
    "        values.append('Makeup Brushes')\n",
    "\n",
    "    if any(word in text.lower() for word in ['makeup sponges', 'beauty blenders', 'makeup applicators']):\n",
    "        values.append('Beauty Blender')\n",
    "\n",
    "    if any(word in text.lower() for word in ['hair straightener', 'hair curler', 'hair dryer', 'hair brushes']):\n",
    "        values.append('Hair Tools')\n",
    "        \n",
    "    if 'tan' in text.lower():\n",
    "        values.append('Tan Removal')\n",
    "    if 'lipstick' in text.lower():\n",
    "        values.append('LipStick')\n",
    "    if 'roller' in text.lower():\n",
    "        values.append('Rollers')\n",
    "    if 'wipe' in text.lower():\n",
    "        values.append('Wipes')\n",
    "    if 'tablet' in text.lower():\n",
    "        values.append('Tablets')\n",
    "    if 'nail' in text.lower():\n",
    "        values.append('Nail products')\n",
    "    if 'soap' in text.lower():\n",
    "        values.append('Soaps')\n",
    "    return ', '.join(values) if values else 'Others'\n"
   ]
  },
  {
   "cell_type": "markdown",
   "id": "1918222e",
   "metadata": {},
   "source": [
    "##### "
   ]
  },
  {
   "cell_type": "markdown",
   "id": "f1d87c09",
   "metadata": {},
   "source": [
    "##### applying the above created function on the product name column and storing it in a new column named as category"
   ]
  },
  {
   "cell_type": "code",
   "execution_count": 33,
   "id": "35ce2036",
   "metadata": {
    "scrolled": false
   },
   "outputs": [],
   "source": [
    "product_data['category'] = product_data['Product_Name'].apply(categorize_products)"
   ]
  },
  {
   "cell_type": "code",
   "execution_count": 34,
   "id": "63e00926",
   "metadata": {},
   "outputs": [
    {
     "data": {
      "text/html": [
       "<div>\n",
       "<style scoped>\n",
       "    .dataframe tbody tr th:only-of-type {\n",
       "        vertical-align: middle;\n",
       "    }\n",
       "\n",
       "    .dataframe tbody tr th {\n",
       "        vertical-align: top;\n",
       "    }\n",
       "\n",
       "    .dataframe thead th {\n",
       "        text-align: right;\n",
       "    }\n",
       "</style>\n",
       "<table border=\"1\" class=\"dataframe\">\n",
       "  <thead>\n",
       "    <tr style=\"text-align: right;\">\n",
       "      <th></th>\n",
       "      <th>Product_Name</th>\n",
       "      <th>Reviews</th>\n",
       "      <th>Original_Price</th>\n",
       "      <th>Offer_Price</th>\n",
       "      <th>Discount</th>\n",
       "      <th>Free_Gifts</th>\n",
       "      <th>category</th>\n",
       "    </tr>\n",
       "  </thead>\n",
       "  <tbody>\n",
       "    <tr>\n",
       "      <th>0</th>\n",
       "      <td>L'Oreal Paris Glycolic Bright Serum With Glyco...</td>\n",
       "      <td>5109.0</td>\n",
       "      <td>MRP:₹749</td>\n",
       "      <td>599.0</td>\n",
       "      <td>20% Off</td>\n",
       "      <td>NaN</td>\n",
       "      <td>Serum</td>\n",
       "    </tr>\n",
       "    <tr>\n",
       "      <th>1</th>\n",
       "      <td>Nykaa Skin Secrets Gold Sheet Mask + Nykaa Ski...</td>\n",
       "      <td>25.0</td>\n",
       "      <td>MRP:₹1099</td>\n",
       "      <td>879.0</td>\n",
       "      <td>20% Off</td>\n",
       "      <td>Extra 10% Off</td>\n",
       "      <td>Mask</td>\n",
       "    </tr>\n",
       "  </tbody>\n",
       "</table>\n",
       "</div>"
      ],
      "text/plain": [
       "                                        Product_Name  Reviews Original_Price  \\\n",
       "0  L'Oreal Paris Glycolic Bright Serum With Glyco...   5109.0       MRP:₹749   \n",
       "1  Nykaa Skin Secrets Gold Sheet Mask + Nykaa Ski...     25.0      MRP:₹1099   \n",
       "\n",
       "   Offer_Price Discount     Free_Gifts category  \n",
       "0        599.0  20% Off            NaN    Serum  \n",
       "1        879.0  20% Off  Extra 10% Off     Mask  "
      ]
     },
     "execution_count": 34,
     "metadata": {},
     "output_type": "execute_result"
    }
   ],
   "source": [
    "product_data.head(2)"
   ]
  },
  {
   "cell_type": "markdown",
   "id": "4ca001e4",
   "metadata": {},
   "source": [
    "##### "
   ]
  },
  {
   "cell_type": "markdown",
   "id": "07996222",
   "metadata": {},
   "source": [
    "##### displaying the product with  the maximum offer price"
   ]
  },
  {
   "cell_type": "code",
   "execution_count": 35,
   "id": "6a204643",
   "metadata": {},
   "outputs": [
    {
     "name": "stdout",
     "output_type": "stream",
     "text": [
      "Products with the top 5 maximum prices:\n",
      "                                           Product_Name  Offer_Price category\n",
      "1941   FOREO BEAR™ Microcurrent Facial Toning - Fuchsia      32980.0    Toner\n",
      "3231  FOREO UFO™ 2 Supercharged Facial Skincare Devi...      27399.0   Others\n",
      "4635  FOREO UFO™ 2 Supercharged Facial Skincare Devi...      27399.0   Others\n",
      "5378  Shiseido Future Solution Lx Legendary Enmei Ul...      33000.0   Others\n",
      "9516  FOREO UFO™ 2 Supercharged Facial Skincare Devi...      27399.0   Others\n"
     ]
    }
   ],
   "source": [
    "offer = product_data['Offer_Price'].nlargest(5)  # Get the top 5 maximum values in 'Offer_Price'\n",
    "rows = product_data[product_data['Offer_Price'].isin(offer)]\n",
    "\n",
    "print(\"Products with the top 5 maximum prices:\")\n",
    "print(rows[['Product_Name','Offer_Price','category']])\n"
   ]
  },
  {
   "cell_type": "markdown",
   "id": "1735a68a",
   "metadata": {},
   "source": [
    "##### "
   ]
  },
  {
   "cell_type": "markdown",
   "id": "ac8aff26",
   "metadata": {},
   "source": [
    "##### displaying the product with  the minimum offer price"
   ]
  },
  {
   "cell_type": "code",
   "execution_count": 36,
   "id": "fb64f7cb",
   "metadata": {
    "scrolled": true
   },
   "outputs": [
    {
     "name": "stdout",
     "output_type": "stream",
     "text": [
      "Products with the top 5 minimum prices:\n",
      "                                     Product_Name  Offer_Price  \\\n",
      "863                             Himalaya Lip Balm         37.0   \n",
      "1172            Himalaya Moisturizing Almond Soap         31.0   \n",
      "1649  Himalaya Refreshing Cucumber & Coconut Soap         32.0   \n",
      "2114     Himalaya Cream And Honey Nourishing Soap         32.0   \n",
      "2842     Fem Fairness Naturals Pearl Bleach Creme         31.0   \n",
      "\n",
      "                category  \n",
      "863               Others  \n",
      "1172  Moisturizer, Soaps  \n",
      "1649               Soaps  \n",
      "2114               Soaps  \n",
      "2842              Others  \n"
     ]
    }
   ],
   "source": [
    "om = product_data['Offer_Price'].nsmallest(5)  # Get the top 5 maximum values in 'Offer_Price'\n",
    "rows = product_data[product_data['Offer_Price'].isin(om)]\n",
    "\n",
    "print(\"Products with the top 5 minimum prices:\")\n",
    "print(rows[['Product_Name','Offer_Price','category']])\n"
   ]
  },
  {
   "cell_type": "markdown",
   "id": "7dde1bee",
   "metadata": {},
   "source": [
    "##### "
   ]
  },
  {
   "cell_type": "markdown",
   "id": "712f96a8",
   "metadata": {},
   "source": [
    "##### replacing the nan values in the Free_Gifts column to None for better analysis purpose"
   ]
  },
  {
   "cell_type": "code",
   "execution_count": 37,
   "id": "605d647e",
   "metadata": {},
   "outputs": [],
   "source": [
    "product_data['Free_Gifts']=product_data['Free_Gifts'].replace(np.nan,'None')"
   ]
  },
  {
   "cell_type": "code",
   "execution_count": 38,
   "id": "52e026a1",
   "metadata": {
    "scrolled": false
   },
   "outputs": [
    {
     "data": {
      "text/html": [
       "<div>\n",
       "<style scoped>\n",
       "    .dataframe tbody tr th:only-of-type {\n",
       "        vertical-align: middle;\n",
       "    }\n",
       "\n",
       "    .dataframe tbody tr th {\n",
       "        vertical-align: top;\n",
       "    }\n",
       "\n",
       "    .dataframe thead th {\n",
       "        text-align: right;\n",
       "    }\n",
       "</style>\n",
       "<table border=\"1\" class=\"dataframe\">\n",
       "  <thead>\n",
       "    <tr style=\"text-align: right;\">\n",
       "      <th></th>\n",
       "      <th>Product_Name</th>\n",
       "      <th>Reviews</th>\n",
       "      <th>Original_Price</th>\n",
       "      <th>Offer_Price</th>\n",
       "      <th>Discount</th>\n",
       "      <th>Free_Gifts</th>\n",
       "      <th>category</th>\n",
       "    </tr>\n",
       "  </thead>\n",
       "  <tbody>\n",
       "    <tr>\n",
       "      <th>0</th>\n",
       "      <td>L'Oreal Paris Glycolic Bright Serum With Glyco...</td>\n",
       "      <td>5109.0</td>\n",
       "      <td>MRP:₹749</td>\n",
       "      <td>599.0</td>\n",
       "      <td>20% Off</td>\n",
       "      <td>None</td>\n",
       "      <td>Serum</td>\n",
       "    </tr>\n",
       "    <tr>\n",
       "      <th>1</th>\n",
       "      <td>Nykaa Skin Secrets Gold Sheet Mask + Nykaa Ski...</td>\n",
       "      <td>25.0</td>\n",
       "      <td>MRP:₹1099</td>\n",
       "      <td>879.0</td>\n",
       "      <td>20% Off</td>\n",
       "      <td>Extra 10% Off</td>\n",
       "      <td>Mask</td>\n",
       "    </tr>\n",
       "    <tr>\n",
       "      <th>2</th>\n",
       "      <td>Dot &amp; Key Vitamin C + E Face Sunscreen With SP...</td>\n",
       "      <td>3606.0</td>\n",
       "      <td>MRP:₹495</td>\n",
       "      <td>421.0</td>\n",
       "      <td>15% Off</td>\n",
       "      <td>Extra 5% Off</td>\n",
       "      <td>Sunscreen</td>\n",
       "    </tr>\n",
       "    <tr>\n",
       "      <th>3</th>\n",
       "      <td>Olay Total Effects 7 In One Anti-Ageing Day Cr...</td>\n",
       "      <td>6046.0</td>\n",
       "      <td>MRP:₹798</td>\n",
       "      <td>638.0</td>\n",
       "      <td>20% Off</td>\n",
       "      <td>None</td>\n",
       "      <td>Moisturizer, Sunscreen</td>\n",
       "    </tr>\n",
       "    <tr>\n",
       "      <th>4</th>\n",
       "      <td>Nykaa SKINRX 10% Vitamin C with 5% Niacinamide...</td>\n",
       "      <td>1421.0</td>\n",
       "      <td>MRP:₹699</td>\n",
       "      <td>559.0</td>\n",
       "      <td>20% Off</td>\n",
       "      <td>None</td>\n",
       "      <td>Serum</td>\n",
       "    </tr>\n",
       "  </tbody>\n",
       "</table>\n",
       "</div>"
      ],
      "text/plain": [
       "                                        Product_Name  Reviews Original_Price  \\\n",
       "0  L'Oreal Paris Glycolic Bright Serum With Glyco...   5109.0       MRP:₹749   \n",
       "1  Nykaa Skin Secrets Gold Sheet Mask + Nykaa Ski...     25.0      MRP:₹1099   \n",
       "2  Dot & Key Vitamin C + E Face Sunscreen With SP...   3606.0       MRP:₹495   \n",
       "3  Olay Total Effects 7 In One Anti-Ageing Day Cr...   6046.0       MRP:₹798   \n",
       "4  Nykaa SKINRX 10% Vitamin C with 5% Niacinamide...   1421.0       MRP:₹699   \n",
       "\n",
       "   Offer_Price Discount     Free_Gifts                category  \n",
       "0        599.0  20% Off           None                   Serum  \n",
       "1        879.0  20% Off  Extra 10% Off                    Mask  \n",
       "2        421.0  15% Off   Extra 5% Off               Sunscreen  \n",
       "3        638.0  20% Off           None  Moisturizer, Sunscreen  \n",
       "4        559.0  20% Off           None                   Serum  "
      ]
     },
     "execution_count": 38,
     "metadata": {},
     "output_type": "execute_result"
    }
   ],
   "source": [
    "product_data.head()"
   ]
  },
  {
   "cell_type": "markdown",
   "id": "7a2facb1",
   "metadata": {},
   "source": [
    "##### "
   ]
  },
  {
   "cell_type": "markdown",
   "id": "e7e4aae8",
   "metadata": {},
   "source": [
    "##### getting the value counts of the various categories of the products"
   ]
  },
  {
   "cell_type": "code",
   "execution_count": 39,
   "id": "da95ec73",
   "metadata": {
    "scrolled": true
   },
   "outputs": [
    {
     "data": {
      "text/plain": [
       "Others                                            5197\n",
       "Serum                                              714\n",
       "Moisturizer                                        666\n",
       "Mask                                               660\n",
       "Exfoliator                                         652\n",
       "                                                  ... \n",
       "Exfoliator, Eye Cream, Soaps                         1\n",
       "Serum, Serum, Tan Removal                            1\n",
       "Mask, Soaps                                          1\n",
       "Exfoliator, Wipes                                    1\n",
       "Moisturizer, Cleanser, Exfoliator, Tan Removal       1\n",
       "Name: category, Length: 163, dtype: int64"
      ]
     },
     "execution_count": 39,
     "metadata": {},
     "output_type": "execute_result"
    }
   ],
   "source": [
    "product_data['category'].value_counts()"
   ]
  },
  {
   "cell_type": "markdown",
   "id": "ca72a54c",
   "metadata": {},
   "source": [
    "##### "
   ]
  },
  {
   "cell_type": "markdown",
   "id": "b25db1b8",
   "metadata": {},
   "source": [
    "##### as we see that there are many such values and it makes us difficult to understand it, so lets craete an interactive visual"
   ]
  },
  {
   "cell_type": "code",
   "execution_count": 68,
   "id": "0ba9c983",
   "metadata": {},
   "outputs": [
    {
     "name": "stdout",
     "output_type": "stream",
     "text": [
      "enter the number of items to visual: 8\n"
     ]
    },
    {
     "data": {
      "application/vnd.jupyter.widget-view+json": {
       "model_id": "fa19e97489ad48e8b11394024026d460",
       "version_major": 2,
       "version_minor": 0
      },
      "text/plain": [
       "interactive(children=(Dropdown(description='x', options=('Top', 'Bottom'), value='Top'), Output()), _dom_class…"
      ]
     },
     "metadata": {},
     "output_type": "display_data"
    }
   ],
   "source": [
    "from ipywidgets import interact\n",
    "import matplotlib.pyplot as plt\n",
    "number=int(input(\"enter the number of items to visual: \"))\n",
    "@interact(x=['Top', 'Bottom'])\n",
    "def analysis(x):\n",
    "    if x == 'Top':\n",
    "        a = product_data['category'].value_counts().head(number)\n",
    "        ax = a.plot(kind='bar')\n",
    "       #this creates a for loop and iterates over each patch i.e the bar. Later it gets the value of the x axis of ecah bar , divide it by 2 to get the center for text alaignmnet\n",
    "        #then it gets the height of each bar and converts it to string using the format matter to display it as text\n",
    "        #ha aligns horizontally in center and va aligns vertically at bottom\n",
    "        for p in ax.patches:\n",
    "            ax.annotate(format(p.get_height()), (p.get_x() + p.get_width() / 2., p.get_height()),ha='center', va='bottom')\n",
    "\n",
    "        plt.title(f\"Top {number} categories of Product\")\n",
    "        plt.xlabel(\"Category\")\n",
    "        plt.ylabel(\"Counts of products\")\n",
    "        plt.show()\n",
    "    else:\n",
    "        b = product_data['category'].value_counts().tail(number)\n",
    "        ax = b.plot(kind='bar')\n",
    "        #this creates a for loop and iterates over each patch i.e the bar. Later it gets the value of the x axis of ecah bar , divide it by 2 to get the center for text alaignmnet\n",
    "        #then it gets the height of each bar and converts it to string using the format matter to display it as text\n",
    "        #ha aligns horizontally in center and va aligns vertically at bottom\n",
    "        for p in ax.patches:\n",
    "            ax.annotate(format(p.get_height()), (p.get_x() + p.get_width() / 2., p.get_height()),ha='center', va='bottom')\n",
    "        plt.title(f\"Bottom {number} categories of Product\")\n",
    "        plt.xlabel(\"Category\")\n",
    "        plt.ylabel(\"Counts of products\")\n",
    "        plt.show()\n"
   ]
  },
  {
   "cell_type": "markdown",
   "id": "83458cf4",
   "metadata": {},
   "source": [
    "##### "
   ]
  },
  {
   "cell_type": "markdown",
   "id": "a22a8d3d",
   "metadata": {},
   "source": [
    "##### "
   ]
  },
  {
   "cell_type": "markdown",
   "id": "561d8b32",
   "metadata": {},
   "source": [
    "##### creating a countplot for discount"
   ]
  },
  {
   "cell_type": "code",
   "execution_count": 41,
   "id": "6730fa82",
   "metadata": {
    "scrolled": false
   },
   "outputs": [
    {
     "data": {
      "image/png": "[encoded data removed]",
      "text/plain": [
       "<Figure size 640x480 with 1 Axes>"
      ]
     },
     "metadata": {},
     "output_type": "display_data"
    }
   ],
   "source": [
    "data = product_data['Discount'].value_counts().head(10)\n",
    "\n",
    "# Creating the bar plot\n",
    "ax = data.plot(kind='bar')\n",
    "#this creates a for loop and iterates over each patch i.e the bar. Later it gets the value of the x axis of ecah bar , divide it by 2 to get the center for text alaignmnet\n",
    "#then it gets the height of each bar and converts it to string using the format matter to display it as text\n",
    "#ha aligns horizontally in center and va aligns vertically at bottom\n",
    "for p in ax.patches:\n",
    "    ax.annotate(format(p.get_height()), (p.get_x() + p.get_width() / 2., p.get_height()),ha='center', va='bottom')\n",
    "\n",
    "# Show plot\n",
    "plt.title(\"Top 10 Highest Discounts and their counts\")\n",
    "plt.xlabel(\"Discount\")\n",
    "plt.ylabel(\"Counts of products\")\n",
    "plt.show()\n"
   ]
  },
  {
   "cell_type": "markdown",
   "id": "075865cd",
   "metadata": {},
   "source": [
    "##### "
   ]
  },
  {
   "cell_type": "markdown",
   "id": "c3dfc615",
   "metadata": {},
   "source": [
    "##### creating a countplot for free gift"
   ]
  },
  {
   "cell_type": "code",
   "execution_count": 42,
   "id": "2bc0570e",
   "metadata": {},
   "outputs": [
    {
     "data": {
      "image/png": "[encoded data removed]",
      "text/plain": [
       "<Figure size 640x480 with 1 Axes>"
      ]
     },
     "metadata": {},
     "output_type": "display_data"
    }
   ],
   "source": [
    "data1 = product_data['Free_Gifts'].value_counts()\n",
    "# Creating the bar plot\n",
    "ax = data1.plot(kind='bar')\n",
    "#this creates a for loop and iterates over each patch i.e the bar. Later it gets the value of the x axis of ecah bar , divide it by 2 to get the center for text alaignmnet\n",
    "#then it gets the height of each bar and converts it to string using the format matter to display it as text\n",
    "#ha aligns horizontally in center and va aligns vertically at bottom\n",
    "for p in ax.patches:\n",
    "    ax.annotate(format(p.get_height()), (p.get_x() + p.get_width() / 2., p.get_height()),ha='center', va='bottom')\n",
    "plt.title(\"Free Gifts For Products and their counts\")\n",
    "plt.xlabel(\"Free Gifts\")\n",
    "plt.ylabel(\"Counts of products\")\n",
    "plt.show()\n"
   ]
  },
  {
   "cell_type": "markdown",
   "id": "7faba98c",
   "metadata": {},
   "source": [
    "##### "
   ]
  },
  {
   "cell_type": "markdown",
   "id": "4767c1f7",
   "metadata": {},
   "source": [
    "##### "
   ]
  },
  {
   "cell_type": "markdown",
   "id": "276c3390",
   "metadata": {},
   "source": [
    "### PERFORMING ANALYSIS ON NYKAA PRODUCTS DATA OF 2022"
   ]
  },
  {
   "cell_type": "markdown",
   "id": "771ce846",
   "metadata": {},
   "source": [
    "##### "
   ]
  },
  {
   "cell_type": "markdown",
   "id": "8e1d24ef",
   "metadata": {},
   "source": [
    "##### loading the dataset"
   ]
  },
  {
   "cell_type": "code",
   "execution_count": 43,
   "id": "b3e26260",
   "metadata": {},
   "outputs": [],
   "source": [
    "popular_product=pd.read_csv('nyka_popular_brands_products_2022_10_16.csv')"
   ]
  },
  {
   "cell_type": "markdown",
   "id": "7737890a",
   "metadata": {},
   "source": [
    "##### "
   ]
  },
  {
   "cell_type": "markdown",
   "id": "76c54ba9",
   "metadata": {},
   "source": [
    "##### displaying the first 5 rows using the head method"
   ]
  },
  {
   "cell_type": "code",
   "execution_count": 44,
   "id": "507e25db",
   "metadata": {},
   "outputs": [
    {
     "data": {
      "text/html": [
       "<div>\n",
       "<style scoped>\n",
       "    .dataframe tbody tr th:only-of-type {\n",
       "        vertical-align: middle;\n",
       "    }\n",
       "\n",
       "    .dataframe tbody tr th {\n",
       "        vertical-align: top;\n",
       "    }\n",
       "\n",
       "    .dataframe thead th {\n",
       "        text-align: right;\n",
       "    }\n",
       "</style>\n",
       "<table border=\"1\" class=\"dataframe\">\n",
       "  <thead>\n",
       "    <tr style=\"text-align: right;\">\n",
       "      <th></th>\n",
       "      <th>brand_name</th>\n",
       "      <th>product_id</th>\n",
       "      <th>image_url</th>\n",
       "      <th>in_stock</th>\n",
       "      <th>mrp</th>\n",
       "      <th>price</th>\n",
       "      <th>product_title</th>\n",
       "      <th>rating</th>\n",
       "      <th>rating_count</th>\n",
       "      <th>tags</th>\n",
       "      <th>product_url</th>\n",
       "      <th>listing_page_name</th>\n",
       "      <th>listing_url</th>\n",
       "      <th>listing_page_no</th>\n",
       "    </tr>\n",
       "  </thead>\n",
       "  <tbody>\n",
       "    <tr>\n",
       "      <th>0</th>\n",
       "      <td>Herbal Essences</td>\n",
       "      <td>2659739</td>\n",
       "      <td>https://images-static.nykaa.com/media/catalog/...</td>\n",
       "      <td>True</td>\n",
       "      <td>1250</td>\n",
       "      <td>750</td>\n",
       "      <td>Herbal Essences Argan Oil Of Moroccan Shampoo ...</td>\n",
       "      <td>4.4</td>\n",
       "      <td>1008</td>\n",
       "      <td>FEATURED, BESTSELLER</td>\n",
       "      <td>https://www.nykaa.com/herbal-essences-argan-oi...</td>\n",
       "      <td>Herbal Essences</td>\n",
       "      <td>https://www.nykaa.com/brands/herbal-essences/c...</td>\n",
       "      <td>1</td>\n",
       "    </tr>\n",
       "    <tr>\n",
       "      <th>1</th>\n",
       "      <td>Herbal Essences</td>\n",
       "      <td>1290145</td>\n",
       "      <td>https://images-static.nykaa.com/media/catalog/...</td>\n",
       "      <td>True</td>\n",
       "      <td>1575</td>\n",
       "      <td>1181</td>\n",
       "      <td>Herbal Essences Aloe &amp; Bamboo Shampoo + Condit...</td>\n",
       "      <td>4.4</td>\n",
       "      <td>1034</td>\n",
       "      <td>FEATURED</td>\n",
       "      <td>https://www.nykaa.com/herbal-essences-potent-a...</td>\n",
       "      <td>Herbal Essences</td>\n",
       "      <td>https://www.nykaa.com/brands/herbal-essences/c...</td>\n",
       "      <td>1</td>\n",
       "    </tr>\n",
       "    <tr>\n",
       "      <th>2</th>\n",
       "      <td>Herbal Essences</td>\n",
       "      <td>456559</td>\n",
       "      <td>https://images-static.nykaa.com/media/catalog/...</td>\n",
       "      <td>True</td>\n",
       "      <td>1250</td>\n",
       "      <td>688</td>\n",
       "      <td>Herbal Essences Argan Oil Shampoo &amp; Conditione...</td>\n",
       "      <td>4.3</td>\n",
       "      <td>10879</td>\n",
       "      <td>FEATURED, BESTSELLER</td>\n",
       "      <td>https://www.nykaa.com/herbal-essences-argan-oi...</td>\n",
       "      <td>Herbal Essences</td>\n",
       "      <td>https://www.nykaa.com/brands/herbal-essences/c...</td>\n",
       "      <td>1</td>\n",
       "    </tr>\n",
       "    <tr>\n",
       "      <th>3</th>\n",
       "      <td>Herbal Essences</td>\n",
       "      <td>3753166</td>\n",
       "      <td>https://images-static.nykaa.com/media/catalog/...</td>\n",
       "      <td>True</td>\n",
       "      <td>1575</td>\n",
       "      <td>945</td>\n",
       "      <td>Herbal Essences Aloe &amp; Bamboo Shampoo + Condit...</td>\n",
       "      <td>4.3</td>\n",
       "      <td>65</td>\n",
       "      <td>FEATURED</td>\n",
       "      <td>https://www.nykaa.com/herbal-essences-soha-alo...</td>\n",
       "      <td>Herbal Essences</td>\n",
       "      <td>https://www.nykaa.com/brands/herbal-essences/c...</td>\n",
       "      <td>1</td>\n",
       "    </tr>\n",
       "    <tr>\n",
       "      <th>4</th>\n",
       "      <td>Herbal Essences</td>\n",
       "      <td>5360837</td>\n",
       "      <td>https://images-static.nykaa.com/media/catalog/...</td>\n",
       "      <td>True</td>\n",
       "      <td>600</td>\n",
       "      <td>390</td>\n",
       "      <td>Herbal Essences Argan Oil Of Morocco Shampoo -...</td>\n",
       "      <td>4.3</td>\n",
       "      <td>8769</td>\n",
       "      <td>FEATURED, BESTSELLER</td>\n",
       "      <td>https://www.nykaa.com/herbal-essences-argan-oi...</td>\n",
       "      <td>Herbal Essences</td>\n",
       "      <td>https://www.nykaa.com/brands/herbal-essences/c...</td>\n",
       "      <td>1</td>\n",
       "    </tr>\n",
       "  </tbody>\n",
       "</table>\n",
       "</div>"
      ],
      "text/plain": [
       "        brand_name  product_id  \\\n",
       "0  Herbal Essences     2659739   \n",
       "1  Herbal Essences     1290145   \n",
       "2  Herbal Essences      456559   \n",
       "3  Herbal Essences     3753166   \n",
       "4  Herbal Essences     5360837   \n",
       "\n",
       "                                           image_url in_stock   mrp  price  \\\n",
       "0  https://images-static.nykaa.com/media/catalog/...     True  1250    750   \n",
       "1  https://images-static.nykaa.com/media/catalog/...     True  1575   1181   \n",
       "2  https://images-static.nykaa.com/media/catalog/...     True  1250    688   \n",
       "3  https://images-static.nykaa.com/media/catalog/...     True  1575    945   \n",
       "4  https://images-static.nykaa.com/media/catalog/...     True   600    390   \n",
       "\n",
       "                                       product_title  rating  rating_count  \\\n",
       "0  Herbal Essences Argan Oil Of Moroccan Shampoo ...     4.4          1008   \n",
       "1  Herbal Essences Aloe & Bamboo Shampoo + Condit...     4.4          1034   \n",
       "2  Herbal Essences Argan Oil Shampoo & Conditione...     4.3         10879   \n",
       "3  Herbal Essences Aloe & Bamboo Shampoo + Condit...     4.3            65   \n",
       "4  Herbal Essences Argan Oil Of Morocco Shampoo -...     4.3          8769   \n",
       "\n",
       "                   tags                                        product_url  \\\n",
       "0  FEATURED, BESTSELLER  https://www.nykaa.com/herbal-essences-argan-oi...   \n",
       "1              FEATURED  https://www.nykaa.com/herbal-essences-potent-a...   \n",
       "2  FEATURED, BESTSELLER  https://www.nykaa.com/herbal-essences-argan-oi...   \n",
       "3              FEATURED  https://www.nykaa.com/herbal-essences-soha-alo...   \n",
       "4  FEATURED, BESTSELLER  https://www.nykaa.com/herbal-essences-argan-oi...   \n",
       "\n",
       "  listing_page_name                                        listing_url  \\\n",
       "0   Herbal Essences  https://www.nykaa.com/brands/herbal-essences/c...   \n",
       "1   Herbal Essences  https://www.nykaa.com/brands/herbal-essences/c...   \n",
       "2   Herbal Essences  https://www.nykaa.com/brands/herbal-essences/c...   \n",
       "3   Herbal Essences  https://www.nykaa.com/brands/herbal-essences/c...   \n",
       "4   Herbal Essences  https://www.nykaa.com/brands/herbal-essences/c...   \n",
       "\n",
       "   listing_page_no  \n",
       "0                1  \n",
       "1                1  \n",
       "2                1  \n",
       "3                1  \n",
       "4                1  "
      ]
     },
     "execution_count": 44,
     "metadata": {},
     "output_type": "execute_result"
    }
   ],
   "source": [
    "popular_product.head()"
   ]
  },
  {
   "cell_type": "markdown",
   "id": "55c7eb26",
   "metadata": {},
   "source": [
    "##### "
   ]
  },
  {
   "cell_type": "markdown",
   "id": "6fd9ceac",
   "metadata": {},
   "source": [
    "##### "
   ]
  },
  {
   "cell_type": "markdown",
   "id": "5d0ed80e",
   "metadata": {},
   "source": [
    "##### displaying the shape(dimensions) of the dataset"
   ]
  },
  {
   "cell_type": "code",
   "execution_count": 45,
   "id": "f82e71a9",
   "metadata": {},
   "outputs": [
    {
     "data": {
      "text/plain": [
       "(3663, 14)"
      ]
     },
     "execution_count": 45,
     "metadata": {},
     "output_type": "execute_result"
    }
   ],
   "source": [
    "popular_product.shape"
   ]
  },
  {
   "cell_type": "markdown",
   "id": "eb0f4dff",
   "metadata": {},
   "source": [
    "##### "
   ]
  },
  {
   "cell_type": "markdown",
   "id": "2f8f231f",
   "metadata": {},
   "source": [
    "##### specifying the name of the columns using the .columns method"
   ]
  },
  {
   "cell_type": "code",
   "execution_count": 46,
   "id": "34ea0896",
   "metadata": {},
   "outputs": [
    {
     "data": {
      "text/plain": [
       "Index(['brand_name', 'product_id', 'image_url', 'in_stock', 'mrp', 'price',\n",
       "       'product_title', 'rating', 'rating_count', 'tags', 'product_url',\n",
       "       'listing_page_name', 'listing_url', 'listing_page_no'],\n",
       "      dtype='object')"
      ]
     },
     "execution_count": 46,
     "metadata": {},
     "output_type": "execute_result"
    }
   ],
   "source": [
    "popular_product.columns"
   ]
  },
  {
   "cell_type": "markdown",
   "id": "0d6f7508",
   "metadata": {},
   "source": [
    "##### "
   ]
  },
  {
   "cell_type": "markdown",
   "id": "2fb2426c",
   "metadata": {},
   "source": [
    "##### checking the datatypes of all the columns present in the dataset"
   ]
  },
  {
   "cell_type": "code",
   "execution_count": 47,
   "id": "60db5a55",
   "metadata": {
    "scrolled": true
   },
   "outputs": [
    {
     "data": {
      "text/plain": [
       "brand_name            object\n",
       "product_id             int64\n",
       "image_url             object\n",
       "in_stock              object\n",
       "mrp                    int64\n",
       "price                  int64\n",
       "product_title         object\n",
       "rating               float64\n",
       "rating_count           int64\n",
       "tags                  object\n",
       "product_url           object\n",
       "listing_page_name     object\n",
       "listing_url           object\n",
       "listing_page_no        int64\n",
       "dtype: object"
      ]
     },
     "execution_count": 47,
     "metadata": {},
     "output_type": "execute_result"
    }
   ],
   "source": [
    "popular_product.dtypes"
   ]
  },
  {
   "cell_type": "markdown",
   "id": "26909201",
   "metadata": {},
   "source": [
    "##### "
   ]
  },
  {
   "cell_type": "markdown",
   "id": "9c4bd8f0",
   "metadata": {},
   "source": [
    "##### getting the statistical description about the dataset"
   ]
  },
  {
   "cell_type": "code",
   "execution_count": 48,
   "id": "9a3ea1ac",
   "metadata": {},
   "outputs": [
    {
     "data": {
      "text/html": [
       "<div>\n",
       "<style scoped>\n",
       "    .dataframe tbody tr th:only-of-type {\n",
       "        vertical-align: middle;\n",
       "    }\n",
       "\n",
       "    .dataframe tbody tr th {\n",
       "        vertical-align: top;\n",
       "    }\n",
       "\n",
       "    .dataframe thead th {\n",
       "        text-align: right;\n",
       "    }\n",
       "</style>\n",
       "<table border=\"1\" class=\"dataframe\">\n",
       "  <thead>\n",
       "    <tr style=\"text-align: right;\">\n",
       "      <th></th>\n",
       "      <th>product_id</th>\n",
       "      <th>mrp</th>\n",
       "      <th>price</th>\n",
       "      <th>rating</th>\n",
       "      <th>rating_count</th>\n",
       "      <th>listing_page_no</th>\n",
       "    </tr>\n",
       "  </thead>\n",
       "  <tbody>\n",
       "    <tr>\n",
       "      <th>count</th>\n",
       "      <td>3.663000e+03</td>\n",
       "      <td>3663.000000</td>\n",
       "      <td>3663.000000</td>\n",
       "      <td>3663.000000</td>\n",
       "      <td>3663.000000</td>\n",
       "      <td>3663.000000</td>\n",
       "    </tr>\n",
       "    <tr>\n",
       "      <th>mean</th>\n",
       "      <td>1.945670e+06</td>\n",
       "      <td>757.762217</td>\n",
       "      <td>613.470925</td>\n",
       "      <td>4.284848</td>\n",
       "      <td>7239.644554</td>\n",
       "      <td>9.852580</td>\n",
       "    </tr>\n",
       "    <tr>\n",
       "      <th>std</th>\n",
       "      <td>2.171661e+06</td>\n",
       "      <td>692.147866</td>\n",
       "      <td>590.075849</td>\n",
       "      <td>0.567004</td>\n",
       "      <td>18498.625476</td>\n",
       "      <td>9.212587</td>\n",
       "    </tr>\n",
       "    <tr>\n",
       "      <th>min</th>\n",
       "      <td>2.500000e+02</td>\n",
       "      <td>50.000000</td>\n",
       "      <td>41.000000</td>\n",
       "      <td>0.000000</td>\n",
       "      <td>0.000000</td>\n",
       "      <td>1.000000</td>\n",
       "    </tr>\n",
       "    <tr>\n",
       "      <th>25%</th>\n",
       "      <td>3.331645e+05</td>\n",
       "      <td>275.000000</td>\n",
       "      <td>220.000000</td>\n",
       "      <td>4.200000</td>\n",
       "      <td>114.000000</td>\n",
       "      <td>3.000000</td>\n",
       "    </tr>\n",
       "    <tr>\n",
       "      <th>50%</th>\n",
       "      <td>8.565000e+05</td>\n",
       "      <td>578.000000</td>\n",
       "      <td>446.000000</td>\n",
       "      <td>4.400000</td>\n",
       "      <td>781.000000</td>\n",
       "      <td>7.000000</td>\n",
       "    </tr>\n",
       "    <tr>\n",
       "      <th>75%</th>\n",
       "      <td>3.597392e+06</td>\n",
       "      <td>950.000000</td>\n",
       "      <td>763.000000</td>\n",
       "      <td>4.500000</td>\n",
       "      <td>5423.500000</td>\n",
       "      <td>13.000000</td>\n",
       "    </tr>\n",
       "    <tr>\n",
       "      <th>max</th>\n",
       "      <td>7.889173e+06</td>\n",
       "      <td>5375.000000</td>\n",
       "      <td>5375.000000</td>\n",
       "      <td>5.000000</td>\n",
       "      <td>180065.000000</td>\n",
       "      <td>41.000000</td>\n",
       "    </tr>\n",
       "  </tbody>\n",
       "</table>\n",
       "</div>"
      ],
      "text/plain": [
       "         product_id          mrp        price       rating   rating_count  \\\n",
       "count  3.663000e+03  3663.000000  3663.000000  3663.000000    3663.000000   \n",
       "mean   1.945670e+06   757.762217   613.470925     4.284848    7239.644554   \n",
       "std    2.171661e+06   692.147866   590.075849     0.567004   18498.625476   \n",
       "min    2.500000e+02    50.000000    41.000000     0.000000       0.000000   \n",
       "25%    3.331645e+05   275.000000   220.000000     4.200000     114.000000   \n",
       "50%    8.565000e+05   578.000000   446.000000     4.400000     781.000000   \n",
       "75%    3.597392e+06   950.000000   763.000000     4.500000    5423.500000   \n",
       "max    7.889173e+06  5375.000000  5375.000000     5.000000  180065.000000   \n",
       "\n",
       "       listing_page_no  \n",
       "count      3663.000000  \n",
       "mean          9.852580  \n",
       "std           9.212587  \n",
       "min           1.000000  \n",
       "25%           3.000000  \n",
       "50%           7.000000  \n",
       "75%          13.000000  \n",
       "max          41.000000  "
      ]
     },
     "execution_count": 48,
     "metadata": {},
     "output_type": "execute_result"
    }
   ],
   "source": [
    "popular_product.describe()"
   ]
  },
  {
   "cell_type": "markdown",
   "id": "379151ed",
   "metadata": {},
   "source": [
    "##### "
   ]
  },
  {
   "cell_type": "markdown",
   "id": "a38096e7",
   "metadata": {},
   "source": [
    "##### checking if any columns in the dataset contains and nan value and replace it with 0"
   ]
  },
  {
   "cell_type": "code",
   "execution_count": 49,
   "id": "05e28723",
   "metadata": {
    "scrolled": false
   },
   "outputs": [
    {
     "data": {
      "text/plain": [
       "brand_name              0\n",
       "product_id              0\n",
       "image_url               0\n",
       "in_stock              300\n",
       "mrp                     0\n",
       "price                   0\n",
       "product_title           0\n",
       "rating                  0\n",
       "rating_count            0\n",
       "tags                 3358\n",
       "product_url             0\n",
       "listing_page_name       0\n",
       "listing_url             0\n",
       "listing_page_no         0\n",
       "dtype: int64"
      ]
     },
     "execution_count": 49,
     "metadata": {},
     "output_type": "execute_result"
    }
   ],
   "source": [
    "popular_product.isna().sum()"
   ]
  },
  {
   "cell_type": "code",
   "execution_count": 50,
   "id": "e4f1f5fc",
   "metadata": {},
   "outputs": [],
   "source": [
    "popular_product=popular_product.fillna(0)"
   ]
  },
  {
   "cell_type": "markdown",
   "id": "b4beec16",
   "metadata": {},
   "source": [
    "##### "
   ]
  },
  {
   "cell_type": "markdown",
   "id": "8a7c2b79",
   "metadata": {},
   "source": [
    "##### now checking the dataset to view the specified changes"
   ]
  },
  {
   "cell_type": "code",
   "execution_count": 51,
   "id": "52805a09",
   "metadata": {
    "scrolled": true
   },
   "outputs": [
    {
     "data": {
      "text/plain": [
       "brand_name           0\n",
       "product_id           0\n",
       "image_url            0\n",
       "in_stock             0\n",
       "mrp                  0\n",
       "price                0\n",
       "product_title        0\n",
       "rating               0\n",
       "rating_count         0\n",
       "tags                 0\n",
       "product_url          0\n",
       "listing_page_name    0\n",
       "listing_url          0\n",
       "listing_page_no      0\n",
       "dtype: int64"
      ]
     },
     "execution_count": 51,
     "metadata": {},
     "output_type": "execute_result"
    }
   ],
   "source": [
    "popular_product.isna().sum()"
   ]
  },
  {
   "cell_type": "markdown",
   "id": "3d166e36",
   "metadata": {},
   "source": [
    "##### "
   ]
  },
  {
   "cell_type": "markdown",
   "id": "990a6def",
   "metadata": {},
   "source": [
    "##### getting the information about how many products are in stock"
   ]
  },
  {
   "cell_type": "code",
   "execution_count": 52,
   "id": "635eff8b",
   "metadata": {},
   "outputs": [],
   "source": [
    "popular_product['in_stock']=popular_product['in_stock'].replace(0,'False')"
   ]
  },
  {
   "cell_type": "code",
   "execution_count": 53,
   "id": "93552e87",
   "metadata": {
    "scrolled": true
   },
   "outputs": [
    {
     "data": {
      "text/plain": [
       "True     3363\n",
       "False     300\n",
       "Name: in_stock, dtype: int64"
      ]
     },
     "execution_count": 53,
     "metadata": {},
     "output_type": "execute_result"
    }
   ],
   "source": [
    "popular_product['in_stock'].value_counts()"
   ]
  },
  {
   "cell_type": "markdown",
   "id": "585d41fa",
   "metadata": {},
   "source": [
    "##### this indicates that most of the products listed are in stock"
   ]
  },
  {
   "cell_type": "markdown",
   "id": "4492e56a",
   "metadata": {},
   "source": [
    "##### "
   ]
  },
  {
   "cell_type": "markdown",
   "id": "541c1646",
   "metadata": {},
   "source": [
    "##### creating a countplot for getting the counts for various products present at nykaa"
   ]
  },
  {
   "cell_type": "code",
   "execution_count": 54,
   "id": "38886960",
   "metadata": {},
   "outputs": [
    {
     "data": {
      "image/png": "[encoded data removed]",
      "text/plain": [
       "<Figure size 1000x600 with 1 Axes>"
      ]
     },
     "metadata": {},
     "output_type": "display_data"
    }
   ],
   "source": [
    "plt.figure(figsize=(10, 6))\n",
    "x=popular_product['brand_name'].unique()\n",
    "ax=sns.countplot(x='brand_name',data=popular_product)\n",
    "plt.title('Brands at Nykaa')\n",
    "plt.xlabel('Brand Names')\n",
    "plt.ylabel('Counts of Product')\n",
    "plt.xticks(rotation=90)\n",
    "\n",
    "#this creates a for loop and iterates over each patch i.e the bar. Later it gets the value of the x axis of ecah bar , divide it by 2 to get the center for text alaignmnet\n",
    "#then it gets the height of each bar and converts it to string using the format matter to display it as text\n",
    "#ha aligns horizontally in center and va aligns vertically at bottom\n",
    "for p in ax.patches:\n",
    "    plt.text(p.get_x() + p.get_width() / 2., p.get_height(), format(p.get_height()), ha='center', va='bottom')\n",
    "plt.show()"
   ]
  },
  {
   "cell_type": "markdown",
   "id": "3191eca3",
   "metadata": {},
   "source": [
    "##### "
   ]
  },
  {
   "cell_type": "markdown",
   "id": "23bd4d16",
   "metadata": {},
   "source": [
    "##### "
   ]
  },
  {
   "cell_type": "markdown",
   "id": "59073e04",
   "metadata": {},
   "source": [
    "##### displaying the unique values that are present in the tags column "
   ]
  },
  {
   "cell_type": "code",
   "execution_count": 55,
   "id": "66c637f7",
   "metadata": {},
   "outputs": [
    {
     "data": {
      "text/plain": [
       "array(['FEATURED, BESTSELLER', 'FEATURED', 'BESTSELLER', 0, 'NEW',\n",
       "       'FEATURED, NEW'], dtype=object)"
      ]
     },
     "execution_count": 55,
     "metadata": {},
     "output_type": "execute_result"
    }
   ],
   "source": [
    "popular_product['tags'].unique()"
   ]
  },
  {
   "cell_type": "markdown",
   "id": "d43aa7bf",
   "metadata": {},
   "source": [
    "##### "
   ]
  },
  {
   "cell_type": "markdown",
   "id": "170e7634",
   "metadata": {},
   "source": [
    "##### visuallly displaying the count of the unique values in the tag column"
   ]
  },
  {
   "cell_type": "code",
   "execution_count": 56,
   "id": "ccfc6ced",
   "metadata": {},
   "outputs": [
    {
     "data": {
      "image/png": "[encoded data removed]",
      "text/plain": [
       "<Figure size 1000x600 with 1 Axes>"
      ]
     },
     "metadata": {},
     "output_type": "display_data"
    }
   ],
   "source": [
    "plt.figure(figsize=(10, 6))\n",
    "x=popular_product['tags'].unique()\n",
    "ax=sns.countplot(x='tags',data=popular_product)\n",
    "plt.title('Product Tags and their Counts')\n",
    "plt.xlabel('Tags')\n",
    "plt.ylabel('Counts of Product')\n",
    "plt.xticks(rotation=90)\n",
    "\n",
    "#this creates a for loop and iterates over each patch i.e the bar. Later it gets the value of the x axis of ecah bar , divide it by 2 to get the center for text alaignmnet\n",
    "#then it gets the height of each bar and converts it to string using the format matter to display it as text\n",
    "#ha aligns horizontally in center and va aligns vertically at bottom\n",
    "for p in ax.patches:\n",
    "    ax.annotate(format(p.get_height()), (p.get_x() + p.get_width() / 2., p.get_height()),ha='center', va='bottom')\n",
    "plt.show()"
   ]
  },
  {
   "cell_type": "markdown",
   "id": "cfb65ec3",
   "metadata": {},
   "source": [
    "##### "
   ]
  },
  {
   "cell_type": "markdown",
   "id": "b11cc14e",
   "metadata": {},
   "source": [
    "##### "
   ]
  },
  {
   "cell_type": "markdown",
   "id": "69ec15da",
   "metadata": {},
   "source": [
    "##### getting the highest price in the product list and displaying the name of that product"
   ]
  },
  {
   "cell_type": "code",
   "execution_count": 57,
   "id": "34022caf",
   "metadata": {},
   "outputs": [
    {
     "name": "stdout",
     "output_type": "stream",
     "text": [
      "The highest price in the set is 5375 and its of the product [['Huda Beauty Naughty Nude Eyeshadow Palette']\n",
      " ['Huda Beauty The New Nude Eyeshadow Palette']\n",
      " ['Huda Beauty Mercury Retrograde Eyeshadow Palette (16.1gm)']\n",
      " ['Huda Beauty Rose Quartz Eyeshadow Palette']\n",
      " ['Huda Beauty Empowered Eyeshadow Palette']\n",
      " ['Huda Beauty Rose Gold Palette - Remastered']\n",
      " ['Huda Beauty Desert Dusk Eyeshadow Palette']] \n"
     ]
    }
   ],
   "source": [
    "a = popular_product['price'].max()  # Get the maximum value in the column\n",
    "row = popular_product[popular_product['price'] == a]\n",
    "value=row[['product_title']].values\n",
    "print(\"The highest price in the set is {0} and its of the product {1} \" .format(a,value))"
   ]
  },
  {
   "cell_type": "markdown",
   "id": "dcfb46d5",
   "metadata": {},
   "source": [
    "##### "
   ]
  },
  {
   "cell_type": "markdown",
   "id": "722241f9",
   "metadata": {},
   "source": [
    "##### getting the lowest price  in the product list and displaying the name of that product"
   ]
  },
  {
   "cell_type": "code",
   "execution_count": 58,
   "id": "1ced94ba",
   "metadata": {},
   "outputs": [
    {
     "name": "stdout",
     "output_type": "stream",
     "text": [
      "The lowest price in the set is 41 and its of the product [['Biotique Almond Oil Nourishing Bathing Bar']] \n"
     ]
    }
   ],
   "source": [
    "b = popular_product['price'].min()  # Get the minimum value in the column\n",
    "row = popular_product[popular_product['price'] == b]\n",
    "value=row[['product_title']].values\n",
    "print(\"The lowest price in the set is {0} and its of the product {1} \" .format(b,value))"
   ]
  },
  {
   "cell_type": "markdown",
   "id": "bddda79b",
   "metadata": {},
   "source": [
    "##### "
   ]
  },
  {
   "cell_type": "markdown",
   "id": "37c20053",
   "metadata": {},
   "source": [
    "##### getting the frequency of the ratings"
   ]
  },
  {
   "cell_type": "code",
   "execution_count": 59,
   "id": "236c0e65",
   "metadata": {
    "scrolled": true
   },
   "outputs": [
    {
     "data": {
      "text/plain": [
       "4.4    936\n",
       "4.3    812\n",
       "4.5    515\n",
       "4.2    437\n",
       "4.1    151\n",
       "5.0    140\n",
       "4.6    138\n",
       "4.0    117\n",
       "3.9     94\n",
       "4.7     70\n",
       "4.8     58\n",
       "3.8     53\n",
       "0.0     48\n",
       "3.7     33\n",
       "4.9     13\n",
       "3.5      9\n",
       "3.6      8\n",
       "3.3      6\n",
       "3.0      6\n",
       "3.4      5\n",
       "2.8      3\n",
       "1.0      3\n",
       "3.2      3\n",
       "3.1      2\n",
       "2.7      1\n",
       "1.5      1\n",
       "2.9      1\n",
       "Name: rating, dtype: int64"
      ]
     },
     "execution_count": 59,
     "metadata": {},
     "output_type": "execute_result"
    }
   ],
   "source": [
    "popular_product['rating'].value_counts()"
   ]
  },
  {
   "cell_type": "markdown",
   "id": "1d36ffe6",
   "metadata": {},
   "source": [
    "##### "
   ]
  },
  {
   "cell_type": "markdown",
   "id": "6944d2de",
   "metadata": {},
   "source": [
    "##### creating an interactive function that will display rows of the rating specified by user"
   ]
  },
  {
   "cell_type": "code",
   "execution_count": 69,
   "id": "1a653e5f",
   "metadata": {
    "scrolled": false
   },
   "outputs": [
    {
     "data": {
      "application/vnd.jupyter.widget-view+json": {
       "model_id": "0035fc7ecfc44d8c85a7e20b683ac6c3",
       "version_major": 2,
       "version_minor": 0
      },
      "text/plain": [
       "interactive(children=(Dropdown(description='x', options=('0 rating', '1 rating', '2 rating', '3 rating', '4 ra…"
      ]
     },
     "metadata": {},
     "output_type": "display_data"
    }
   ],
   "source": [
    "@interact(x=['0 rating', '1 rating', '2 rating', '3 rating', '4 rating', '5 rating'])\n",
    "def analysis(x):\n",
    "    if x == '0 rating':\n",
    "        # Filter rows where rating is 0\n",
    "        rows = popular_product[popular_product['rating'] == 0]\n",
    "        display(rows)\n",
    "        print(rows.shape)\n",
    "    elif x == '1 rating':\n",
    "        # Filter rows where rating is between 1.0 and 1.9\n",
    "        rows = popular_product[(popular_product['rating'] >= 1.0) & (popular_product['rating'] <= 1.9)]\n",
    "        display(rows)\n",
    "        print(rows.shape)\n",
    "    elif x == '2 rating':\n",
    "        # Filter rows where rating is between 2.0 and 2.9\n",
    "        rows = popular_product[(popular_product['rating'] >= 2.0) & (popular_product['rating'] <= 2.9)]\n",
    "        display(rows)\n",
    "        print(rows.shape)\n",
    "    elif x == '3 rating':\n",
    "        # Filter rows where rating is between 3.0 and 3.9\n",
    "        rows = popular_product[(popular_product['rating'] >= 3.0) & (popular_product['rating'] <= 3.9)]\n",
    "        display(rows)\n",
    "        print(rows.shape)\n",
    "    elif x == '4 rating':\n",
    "        # Filter rows where rating is between 4.0 and 4.9\n",
    "        rows = popular_product[(popular_product['rating'] >= 4.0) & (popular_product['rating'] <= 4.9)]\n",
    "        display(rows)\n",
    "        print(rows.shape)\n",
    "    elif x == '5 rating':\n",
    "        # Filter rows where rating is 5.0\n",
    "        rows = popular_product[popular_product['rating'] == 5.0]\n",
    "        display(rows)\n",
    "        print(rows.shape)\n"
   ]
  },
  {
   "cell_type": "markdown",
   "id": "a2a4356c",
   "metadata": {},
   "source": [
    "##### "
   ]
  },
  {
   "cell_type": "markdown",
   "id": "ed036bbf",
   "metadata": {},
   "source": [
    "##### "
   ]
  },
  {
   "cell_type": "markdown",
   "id": "b6a73f9e",
   "metadata": {},
   "source": [
    "##### creating a function that will categorize the products based on keywords into different categories as specified"
   ]
  },
  {
   "cell_type": "code",
   "execution_count": 61,
   "id": "e2fc4170",
   "metadata": {},
   "outputs": [],
   "source": [
    "def categorize_products(text):\n",
    "    values = []\n",
    "\n",
    "    if any(word in text.lower() for word in ['mask', 'peel']):\n",
    "        values.append('Mask')\n",
    "\n",
    "    if any(word in text.lower() for word in ['day cream', 'night cream', 'moistur', 'gel moisturizer', 'face oil']):\n",
    "        values.append('Moisturizer')\n",
    "\n",
    "    if any(word in text.lower() for word in ['face wash', 'cleansing balm', 'micellar water', 'cleansing milk']):\n",
    "        values.append('Cleanser')\n",
    "\n",
    "    if '%' in text.lower():\n",
    "        values.append('Serum')\n",
    "\n",
    "    if any(word in text.lower() for word in ['toner', 'toning']):\n",
    "        values.append('Toner')\n",
    "\n",
    "    if any(word in text.lower() for word in ['hydrating serum', 'anti-aging serum', 'vitamin c serum', 'serum']):\n",
    "        values.append('Serum')\n",
    "\n",
    "    if any(word in text.lower() for word in ['sunscreen', 'spf']):\n",
    "        values.append('Sunscreen')\n",
    "\n",
    "    if any(word in text.lower() for word in ['scrub', 'exfoliant', 'exfoliating']):\n",
    "        values.append('Exfoliator')\n",
    "\n",
    "    if 'eye' in text.lower():\n",
    "        values.append('Eye Cream')\n",
    "\n",
    "    if 'shampoo' in text.lower():\n",
    "        values.append('Shampoo')\n",
    "\n",
    "    if 'conditioner' in text.lower():\n",
    "        values.append('Conditioner')\n",
    "\n",
    "    if any(word in text.lower() for word in ['coconut oil', 'argan oil', 'hair serum', 'hair treatment oil']):\n",
    "        values.append('Hair Oil')\n",
    "\n",
    "    if any(word in text.lower() for word in ['hair styling gel', 'hair mousse', 'hair spray', 'heat protectant']):\n",
    "        values.append('Styling')\n",
    "\n",
    "    if any(word in text.lower() for word in ['parfum', 'perfume', 'mist', 'fragrance']):\n",
    "        values.append('Perfumes')\n",
    "\n",
    "    if 'brush' in text.lower():\n",
    "        values.append('Makeup Brushes')\n",
    "\n",
    "    if any(word in text.lower() for word in ['makeup sponges', 'beauty blenders', 'makeup applicators']):\n",
    "        values.append('Beauty Blender')\n",
    "\n",
    "    if any(word in text.lower() for word in ['hair straightener', 'hair curler', 'hair dryer', 'hair brushes']):\n",
    "        values.append('Hair Tools')\n",
    "        \n",
    "    if 'tan' in text.lower():\n",
    "        values.append('Tan Removal')\n",
    "    if 'lipstick' in text.lower():\n",
    "        values.append('LipStick')\n",
    "    if 'roller' in text.lower():\n",
    "        values.append('Rollers')\n",
    "    if 'wipe' in text.lower():\n",
    "        values.append('Wipes')\n",
    "    if 'tablet' in text.lower():\n",
    "        values.append('Tablets')\n",
    "    if 'nail' in text.lower():\n",
    "        values.append('Nail products')\n",
    "    if 'soap' in text.lower():\n",
    "        values.append('Soaps')\n",
    "    return ', '.join(values) if values else 'Others'\n"
   ]
  },
  {
   "cell_type": "markdown",
   "id": "fa39a2d8",
   "metadata": {},
   "source": [
    "##### "
   ]
  },
  {
   "cell_type": "markdown",
   "id": "e8423cc9",
   "metadata": {},
   "source": [
    "##### applying this above created function on the product title and storing that value in a new column named as category"
   ]
  },
  {
   "cell_type": "code",
   "execution_count": 62,
   "id": "b9bfc850",
   "metadata": {},
   "outputs": [],
   "source": [
    "popular_product['category'] = popular_product['product_title'].apply(categorize_products)"
   ]
  },
  {
   "cell_type": "code",
   "execution_count": 63,
   "id": "2e355743",
   "metadata": {},
   "outputs": [
    {
     "data": {
      "text/html": [
       "<div>\n",
       "<style scoped>\n",
       "    .dataframe tbody tr th:only-of-type {\n",
       "        vertical-align: middle;\n",
       "    }\n",
       "\n",
       "    .dataframe tbody tr th {\n",
       "        vertical-align: top;\n",
       "    }\n",
       "\n",
       "    .dataframe thead th {\n",
       "        text-align: right;\n",
       "    }\n",
       "</style>\n",
       "<table border=\"1\" class=\"dataframe\">\n",
       "  <thead>\n",
       "    <tr style=\"text-align: right;\">\n",
       "      <th></th>\n",
       "      <th>brand_name</th>\n",
       "      <th>product_id</th>\n",
       "      <th>image_url</th>\n",
       "      <th>in_stock</th>\n",
       "      <th>mrp</th>\n",
       "      <th>price</th>\n",
       "      <th>product_title</th>\n",
       "      <th>rating</th>\n",
       "      <th>rating_count</th>\n",
       "      <th>tags</th>\n",
       "      <th>product_url</th>\n",
       "      <th>listing_page_name</th>\n",
       "      <th>listing_url</th>\n",
       "      <th>listing_page_no</th>\n",
       "      <th>category</th>\n",
       "    </tr>\n",
       "  </thead>\n",
       "  <tbody>\n",
       "    <tr>\n",
       "      <th>0</th>\n",
       "      <td>Herbal Essences</td>\n",
       "      <td>2659739</td>\n",
       "      <td>https://images-static.nykaa.com/media/catalog/...</td>\n",
       "      <td>True</td>\n",
       "      <td>1250</td>\n",
       "      <td>750</td>\n",
       "      <td>Herbal Essences Argan Oil Of Moroccan Shampoo ...</td>\n",
       "      <td>4.4</td>\n",
       "      <td>1008</td>\n",
       "      <td>FEATURED, BESTSELLER</td>\n",
       "      <td>https://www.nykaa.com/herbal-essences-argan-oi...</td>\n",
       "      <td>Herbal Essences</td>\n",
       "      <td>https://www.nykaa.com/brands/herbal-essences/c...</td>\n",
       "      <td>1</td>\n",
       "      <td>Shampoo, Conditioner, Hair Oil</td>\n",
       "    </tr>\n",
       "    <tr>\n",
       "      <th>1</th>\n",
       "      <td>Herbal Essences</td>\n",
       "      <td>1290145</td>\n",
       "      <td>https://images-static.nykaa.com/media/catalog/...</td>\n",
       "      <td>True</td>\n",
       "      <td>1575</td>\n",
       "      <td>1181</td>\n",
       "      <td>Herbal Essences Aloe &amp; Bamboo Shampoo + Condit...</td>\n",
       "      <td>4.4</td>\n",
       "      <td>1034</td>\n",
       "      <td>FEATURED</td>\n",
       "      <td>https://www.nykaa.com/herbal-essences-potent-a...</td>\n",
       "      <td>Herbal Essences</td>\n",
       "      <td>https://www.nykaa.com/brands/herbal-essences/c...</td>\n",
       "      <td>1</td>\n",
       "      <td>Shampoo, Conditioner</td>\n",
       "    </tr>\n",
       "  </tbody>\n",
       "</table>\n",
       "</div>"
      ],
      "text/plain": [
       "        brand_name  product_id  \\\n",
       "0  Herbal Essences     2659739   \n",
       "1  Herbal Essences     1290145   \n",
       "\n",
       "                                           image_url in_stock   mrp  price  \\\n",
       "0  https://images-static.nykaa.com/media/catalog/...     True  1250    750   \n",
       "1  https://images-static.nykaa.com/media/catalog/...     True  1575   1181   \n",
       "\n",
       "                                       product_title  rating  rating_count  \\\n",
       "0  Herbal Essences Argan Oil Of Moroccan Shampoo ...     4.4          1008   \n",
       "1  Herbal Essences Aloe & Bamboo Shampoo + Condit...     4.4          1034   \n",
       "\n",
       "                   tags                                        product_url  \\\n",
       "0  FEATURED, BESTSELLER  https://www.nykaa.com/herbal-essences-argan-oi...   \n",
       "1              FEATURED  https://www.nykaa.com/herbal-essences-potent-a...   \n",
       "\n",
       "  listing_page_name                                        listing_url  \\\n",
       "0   Herbal Essences  https://www.nykaa.com/brands/herbal-essences/c...   \n",
       "1   Herbal Essences  https://www.nykaa.com/brands/herbal-essences/c...   \n",
       "\n",
       "   listing_page_no                        category  \n",
       "0                1  Shampoo, Conditioner, Hair Oil  \n",
       "1                1            Shampoo, Conditioner  "
      ]
     },
     "execution_count": 63,
     "metadata": {},
     "output_type": "execute_result"
    }
   ],
   "source": [
    "popular_product.head(2)"
   ]
  },
  {
   "cell_type": "markdown",
   "id": "c4920e52",
   "metadata": {},
   "source": [
    "##### "
   ]
  },
  {
   "cell_type": "markdown",
   "id": "7f5c8b7e",
   "metadata": {},
   "source": [
    "##### displaying the value count for each product category"
   ]
  },
  {
   "cell_type": "code",
   "execution_count": 64,
   "id": "edae1639",
   "metadata": {},
   "outputs": [
    {
     "data": {
      "text/plain": [
       "Others                                         1442\n",
       "Nail products                                   339\n",
       "LipStick                                        307\n",
       "Eye Cream                                       281\n",
       "Moisturizer                                     131\n",
       "                                               ... \n",
       "Mask, Cleanser, Makeup Brushes, Tan Removal       1\n",
       "Moisturizer, Toner, Exfoliator                    1\n",
       "Cleanser, Serum                                   1\n",
       "Mask, Soaps                                       1\n",
       "Eye Cream, Hair Oil                               1\n",
       "Name: category, Length: 98, dtype: int64"
      ]
     },
     "execution_count": 64,
     "metadata": {},
     "output_type": "execute_result"
    }
   ],
   "source": [
    "popular_product['category'].value_counts()"
   ]
  },
  {
   "cell_type": "markdown",
   "id": "32cc2f9e",
   "metadata": {},
   "source": [
    "##### "
   ]
  },
  {
   "cell_type": "markdown",
   "id": "1fd4afc0",
   "metadata": {},
   "source": [
    "##### creating a bar plot visualization for top 5 categories of product"
   ]
  },
  {
   "cell_type": "code",
   "execution_count": 65,
   "id": "47cdf29c",
   "metadata": {},
   "outputs": [
    {
     "data": {
      "image/png": "[encoded data removed]",
      "text/plain": [
       "<Figure size 640x480 with 1 Axes>"
      ]
     },
     "metadata": {},
     "output_type": "display_data"
    }
   ],
   "source": [
    "data1 = product_data['category'].value_counts().head(5)\n",
    "\n",
    "# Creating the bar plot\n",
    "ax = data1.plot(kind='bar')\n",
    "#this creates a for loop and iterates over each patch i.e the bar. Later it gets the value of the x axis of ecah bar , divide it by 2 to get the center for text alaignmnet\n",
    "#then it gets the height of each bar and converts it to string using the format matter to display it as text\n",
    "#ha aligns horizontally in center and va aligns vertically at bottom\n",
    "for p in ax.patches:\n",
    "    ax.annotate(format(p.get_height()), (p.get_x() + p.get_width() / 2., p.get_height()),ha='center', va='bottom')\n",
    "\n",
    "# Show plot\n",
    "plt.title(\"Top 5 Category of Products and their counts\")\n",
    "plt.xlabel(\"Category\")\n",
    "plt.ylabel(\"Counts of products\")\n",
    "plt.show()"
   ]
  },
  {
   "cell_type": "markdown",
   "id": "7d0c4a8c",
   "metadata": {},
   "source": [
    "##### "
   ]
  },
  {
   "cell_type": "markdown",
   "id": "1732620b",
   "metadata": {},
   "source": [
    "##### creating a bar plot visualization for bottom 5 categories of product"
   ]
  },
  {
   "cell_type": "code",
   "execution_count": 66,
   "id": "20d9da7e",
   "metadata": {},
   "outputs": [
    {
     "data": {
      "image/png": "[encoded data removed]",
      "text/plain": [
       "<Figure size 640x480 with 1 Axes>"
      ]
     },
     "metadata": {},
     "output_type": "display_data"
    }
   ],
   "source": [
    "data1 = product_data['category'].value_counts().tail(5)\n",
    "\n",
    "# Creating the bar plot\n",
    "ax = data1.plot(kind='bar')\n",
    "#this creates a for loop and iterates over each patch i.e the bar. Later it gets the value of the x axis of ecah bar , divide it by 2 to get the center for text alaignmnet\n",
    "#then it gets the height of each bar and converts it to string using the format matter to display it as text\n",
    "#ha aligns horizontally in center and va aligns vertically at bottom\n",
    "for p in ax.patches:\n",
    "    ax.annotate(format(p.get_height()), (p.get_x() + p.get_width() / 2., p.get_height()),ha='center', va='bottom')\n",
    "\n",
    "# Show plot\n",
    "plt.title(\"Bottom 5 Category of Products and their counts\")\n",
    "plt.xlabel(\"Category\")\n",
    "plt.ylabel(\"Counts of products\")\n",
    "plt.show()"
   ]
  },
  {
   "cell_type": "code",
   "execution_count": null,
   "id": "8546d339",
   "metadata": {},
   "outputs": [],
   "source": []
  },
  {
   "cell_type": "code",
   "execution_count": null,
   "id": "444c930b",
   "metadata": {},
   "outputs": [],
   "source": []
  },
  {
   "cell_type": "markdown",
   "id": "86dfb3ad",
   "metadata": {},
   "source": [
    "##### saving this above data in the desktop in the csv format to be used in PowerBI"
   ]
  },
  {
   "cell_type": "code",
   "execution_count": null,
   "id": "da0d1c06",
   "metadata": {},
   "outputs": [],
   "source": [
    "desktop_path = r'C:\\Users\\DELL\\Desktop\\project\\popular_product.csv'\n",
    "\n",
    "# Save the DataFrame to a CSV file\n",
    "popular_product.to_csv(desktop_path, index=False)"
   ]
  },
  {
   "cell_type": "markdown",
   "id": "36172131",
   "metadata": {},
   "source": [
    "##### "
   ]
  },
  {
   "cell_type": "markdown",
   "id": "ec957f32",
   "metadata": {},
   "source": [
    "##### "
   ]
  },
  {
   "cell_type": "markdown",
   "id": "3d54ce0f",
   "metadata": {},
   "source": [
    "### CREATING A RECOMMENDATION SYSTEM"
   ]
  },
  {
   "cell_type": "markdown",
   "id": "187946a5",
   "metadata": {},
   "source": [
    "##### LOADING THE NECEESARY LIBARRIES"
   ]
  },
  {
   "cell_type": "code",
   "execution_count": 67,
   "id": "dbb9e655",
   "metadata": {},
   "outputs": [],
   "source": [
    "import tkinter as tk\n",
    "from tkinter import *\n",
    "from PIL import Image, ImageTk #opening manipulating and displaying images\n",
    "from selenium import webdriver #allows interaction with webbrowser\n",
    "from selenium.webdriver.chrome.options import Options #seeting option while working with web browser\n",
    "from io import BytesIO #treat binary data of image"
   ]
  },
  {
   "cell_type": "code",
   "execution_count": null,
   "id": "82c1cfc2",
   "metadata": {
    "scrolled": true
   },
   "outputs": [],
   "source": [
    "window=Tk()#initialize teh window\n",
    "makeup_emoji = \"\\U0001F484\" #makeup emoji\n",
    "face_with_makeup_emoji = \"\\U0001F485\"\n",
    "nail_polish_emoji = \"\\U0001F485\"\n",
    "cosmetics_emoji = \"\\U0001F484\"\n",
    "window.title(\"NYKAA!\"+makeup_emoji)#title for the window\n",
    "window.configure(width=2000,height=500)#adjust the size of teh window\n",
    "window.configure(bg=\"#FF1493\")#adjust teh color of teh window\n",
    "window.configure(borderwidth=10)#adding border to the window\n",
    "\n",
    "frame1 = tk.Frame(window, width=1400, height=700, highlightthickness=3, highlightbackground=\"black\",bg=\"#FF1493\")#adding border\n",
    "frame1.pack()#place in window\n",
    "\n",
    "label=Label(window,text=cosmetics_emoji+\"Nykaa Product Recommendation System!\"+nail_polish_emoji,fg=\"black\",bg=\"#FF1493\",\n",
    "            font=(\"Arial\",40,\"bold\"))\n",
    "label.place(x=130,y=30)#label and its placement\n",
    "\n",
    "\n",
    "brands =popular_product['brand_name'].unique()\n",
    "\n",
    "# Create a variable to store the selected option\n",
    "selected_brand = tk.StringVar()  #creates a string object that stores the selecetd avlue\n",
    "selected_brand.set(brands[0])  # Set the default selected option\n",
    "\n",
    "# Create an OptionMenu widget\n",
    "dropdown = tk.OptionMenu(window, selected_brand, *brands)\n",
    "dropdown.pack(pady=10)\n",
    "dropdown.place(x=600, y=100)\n",
    "\n",
    "\n",
    "def display_images():\n",
    "    selected_option = selected_brand.get() #get the selected option\n",
    "    \n",
    "    selected_products = popular_product[popular_product['brand_name'] == selected_option].head(12)\n",
    "    #acc to the selecetd option fetches the rows from the dataset where the brand anme matched. It fteched the first 12 rows\n",
    "    row, col = 0, 0  #initialize the row and col value as 0\n",
    "    options = webdriver.ChromeOptions() \n",
    "    #configuring the Chrome WebDriver.It tells the function to access and initialize a connection with webbrowser\n",
    "    options.add_argument('--headless')  # This line hides the browser window\n",
    "\n",
    "    driver = webdriver.Chrome(options=options)\n",
    "    #driver variable will handle the chrome, all activities\n",
    "    #webdriver is used for interactive interaction with the webbrowser\n",
    "    #chrome represents the web browser used here and options specify the configurations\n",
    "    for index, product in selected_products.iterrows():\n",
    "        try:\n",
    "            # Get the URL for the product image\n",
    "            image_url = product['image_url']\n",
    "            \n",
    "            # Fetch the image using the headless browser\n",
    "            driver.get(image_url)#get the url and place it in the browser\n",
    "            img_data = driver.get_screenshot_as_png()#captures the screenshot of the opened image\n",
    "            img = Image.open(BytesIO(img_data)) #image is in  byte form so open it and store in a new variable\n",
    "            img = img.resize((180, 180),Image.LANCZOS) #adjust the size of the stored image and the \n",
    "            #Lancoz method is used to maintain good quality of the image\n",
    "            img = ImageTk.PhotoImage(img) #image is then converted into appropriate form for the tkinter display\n",
    "            \n",
    "            # Display image in a label\n",
    "            panel = tk.Label(frame1, image=img)\n",
    "            panel.image = img\n",
    "            panel.grid(row=row, column=col, padx=10, pady=130)\n",
    "            col += 1\n",
    "            if col == 6:\n",
    "                col = 0\n",
    "                row += 1\n",
    "        except Exception as e:\n",
    "            print(f\"Error loading image: {e}\")\n",
    "    \n",
    "    driver.quit()  # Close the browser after fetching images\n",
    "\n",
    "            \n",
    "            \n",
    "selected_brand.trace('w', lambda *args: display_images()) #handle changing of the brands\n",
    "\n",
    "\n",
    "window.mainloop()#run main window in loop"
   ]
  },
  {
   "cell_type": "markdown",
   "id": "a8727841",
   "metadata": {},
   "source": [
    "##### "
   ]
  },
  {
   "cell_type": "markdown",
   "id": "c3facc2d",
   "metadata": {},
   "source": [
    "##### "
   ]
  },
  {
   "cell_type": "code",
   "execution_count": 4,
   "id": "ae853727",
   "metadata": {},
   "outputs": [],
   "source": [
    "import pandas as pd\n",
    "\n",
    "# Sample data\n",
    "data = {\n",
    "    'Task': ['Task 1', 'Task 2', 'Task 3'],\n",
    "    'Start': pd.to_datetime(['2022-01-01', '2022-02-01', '2022-03-01']),\n",
    "    'Finish': pd.to_datetime(['2022-02-01', '2022-03-01', '2022-04-01'])\n",
    "}\n",
    "\n",
    "df = pd.DataFrame(data)\n",
    "\n",
    "df.to_csv(\"imp_data.csv\")"
   ]
  },
  {
   "cell_type": "code",
   "execution_count": null,
   "id": "4cf36359",
   "metadata": {},
   "outputs": [],
   "source": []
  },
  {
   "cell_type": "code",
   "execution_count": null,
   "id": "8a37c9df",
   "metadata": {},
   "outputs": [],
   "source": []
  }
 ],
 "metadata": {
  "kernelspec": {
   "display_name": "Python 3 (ipykernel)",
   "language": "python",
   "name": "python3"
  },
  "language_info": {
   "codemirror_mode": {
    "name": "ipython",
    "version": 3
   },
   "file_extension": ".py",
   "mimetype": "text/x-python",
   "name": "python",
   "nbconvert_exporter": "python",
   "pygments_lexer": "ipython3",
   "version": "3.11.4"
  }
 },
 "nbformat": 4,
 "nbformat_minor": 5
}
